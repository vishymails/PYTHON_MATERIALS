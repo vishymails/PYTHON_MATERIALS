{
 "cells": [
  {
   "cell_type": "code",
   "execution_count": 1,
   "metadata": {},
   "outputs": [
    {
     "name": "stdout",
     "output_type": "stream",
     "text": [
      "list1[0]:  Python\n",
      "list2[1:5]:  [2, 3, 4, 5]\n"
     ]
    }
   ],
   "source": [
    "list1 = ['Python', 'Java', 1997, 2000]\n",
    "list2 = [1, 2, 3, 4, 5, 6, 7 ]\n",
    "\n",
    "print (\"list1[0]: \", list1[0])\n",
    "print (\"list2[1:5]: \", list2[1:5])\n"
   ]
  },
  {
   "cell_type": "code",
   "execution_count": 2,
   "metadata": {},
   "outputs": [
    {
     "name": "stdout",
     "output_type": "stream",
     "text": [
      "Value available at index 2 :  1997\n",
      "New value available at index 2 :  2001\n"
     ]
    }
   ],
   "source": [
    "list = ['python', 'Java', 1997, 2000]\n",
    "print (\"Value available at index 2 : \", list[2])\n",
    "\n",
    "list[2] = 2001\n",
    "print (\"New value available at index 2 : \", list[2])\n"
   ]
  },
  {
   "cell_type": "code",
   "execution_count": 8,
   "metadata": {},
   "outputs": [
    {
     "name": "stdout",
     "output_type": "stream",
     "text": [
      "['python', 'Java', 1997, 2000]\n",
      "After deleting value at index 2 :  ['python', 'Java', 2000]\n"
     ]
    }
   ],
   "source": [
    "\n",
    "\n",
    "list = ['python', 'Java', 1997, 2000]\n",
    "\n",
    "print (list)\n",
    "del list[2]\n",
    "print (\"After deleting value at index 2 : \", list)\n",
    "\n"
   ]
  },
  {
   "cell_type": "code",
   "execution_count": 9,
   "metadata": {},
   "outputs": [
    {
     "name": "stdout",
     "output_type": "stream",
     "text": [
      "3\n"
     ]
    }
   ],
   "source": [
    "list1 = ['python', 'Java', 'maths']\n",
    "print (len(list1))\n"
   ]
  },
  {
   "cell_type": "code",
   "execution_count": 10,
   "metadata": {},
   "outputs": [
    {
     "name": "stdout",
     "output_type": "stream",
     "text": [
      "Max value element :  Python\n",
      "Max value element :  700\n"
     ]
    }
   ],
   "source": [
    "list1, list2 = ['C++','Java', 'Python'], [456, 700, 200]\n",
    "print (\"Max value element : \", max(list1))\n",
    "print (\"Max value element : \", max(list2))"
   ]
  },
  {
   "cell_type": "code",
   "execution_count": 7,
   "metadata": {},
   "outputs": [
    {
     "name": "stdout",
     "output_type": "stream",
     "text": [
      "min value element :  C++\n",
      "min value element :  200\n"
     ]
    }
   ],
   "source": [
    "list1, list2 = ['C++','Java', 'Python'], [456, 700, 200]\n",
    "\n",
    "print (\"min value element : \", min(list1))\n",
    "print (\"min value element : \", min(list2))\n"
   ]
  },
  {
   "cell_type": "code",
   "execution_count": 11,
   "metadata": {},
   "outputs": [
    {
     "name": "stdout",
     "output_type": "stream",
     "text": [
      "updated list :  ['C++', 'Java', 'Python', 'C#']\n"
     ]
    }
   ],
   "source": [
    "\n",
    "list1 = ['C++', 'Java', 'Python']\n",
    "list1.append('C#')\n",
    "print (\"updated list : \", list1)"
   ]
  },
  {
   "cell_type": "code",
   "execution_count": 12,
   "metadata": {},
   "outputs": [
    {
     "name": "stdout",
     "output_type": "stream",
     "text": [
      "Count for 123 :  2\n",
      "Count for zara :  1\n"
     ]
    }
   ],
   "source": [
    "aList = [123, 'xyz', 'zara', 'abc', 123];\n",
    "\n",
    "print (\"Count for 123 : \", aList.count(123))\n",
    "print (\"Count for zara : \", aList.count('zara'))\n"
   ]
  },
  {
   "cell_type": "code",
   "execution_count": 13,
   "metadata": {},
   "outputs": [
    {
     "name": "stdout",
     "output_type": "stream",
     "text": [
      "Index of Java 1\n",
      "Index of C# 3\n"
     ]
    }
   ],
   "source": [
    "list1 = ['python', 'Java', 'maths', 'C#']\n",
    "print ('Index of Java', list1.index('Java'))\n",
    "print ('Index of C#', list1.index(\"C#\"))"
   ]
  },
  {
   "cell_type": "code",
   "execution_count": 14,
   "metadata": {},
   "outputs": [
    {
     "name": "stdout",
     "output_type": "stream",
     "text": [
      "Final list :  ['python', 'Stats', 'Java', 'maths']\n"
     ]
    }
   ],
   "source": [
    "list1 = ['python', 'Java', 'maths']\n",
    "list1.insert(1, 'Stats')\n",
    "print ('Final list : ', list1)\n"
   ]
  },
  {
   "cell_type": "code",
   "execution_count": 15,
   "metadata": {},
   "outputs": [
    {
     "name": "stdout",
     "output_type": "stream",
     "text": [
      "list now :  ['python', 'Stats', 'Java']\n",
      "list now :  ['python', 'Java']\n"
     ]
    }
   ],
   "source": [
    "list1 = ['python', 'Stats', 'Java', 'maths']\n",
    "list1.pop()\n",
    "print (\"list now : \", list1)\n",
    "list1.pop(1)\n",
    "print (\"list now : \", list1)"
   ]
  },
  {
   "cell_type": "code",
   "execution_count": 16,
   "metadata": {},
   "outputs": [
    {
     "name": "stdout",
     "output_type": "stream",
     "text": [
      "list now :  ['python', 'Java', 'maths']\n",
      "list now :  ['python', 'Java']\n"
     ]
    }
   ],
   "source": [
    "list1 = ['python', 'Stats', 'Java', 'maths']\n",
    "list1.remove('Stats')\n",
    "print (\"list now : \", list1)\n",
    "list1.remove('maths')\n",
    "print (\"list now : \", list1)\n"
   ]
  },
  {
   "cell_type": "code",
   "execution_count": 17,
   "metadata": {},
   "outputs": [
    {
     "name": "stdout",
     "output_type": "stream",
     "text": [
      "list now :  ['maths', 'Java', 'Stats', 'python']\n"
     ]
    }
   ],
   "source": [
    "list1 = ['python', 'Stats', 'Java', 'maths']\n",
    "list1.reverse()\n",
    "print (\"list now : \", list1)"
   ]
  },
  {
   "cell_type": "code",
   "execution_count": 18,
   "metadata": {},
   "outputs": [
    {
     "name": "stdout",
     "output_type": "stream",
     "text": [
      "list now :  ['Java', 'Python', 'Stats', 'maths']\n"
     ]
    }
   ],
   "source": [
    "list1 = ['Python', 'Stats', 'Java', 'maths']\n",
    "list1.sort()\n",
    "print (\"list now : \", list1)\n"
   ]
  },
  {
   "cell_type": "code",
   "execution_count": 1,
   "metadata": {},
   "outputs": [],
   "source": [
    "'''\n",
    "Created on Mar 21, 2018\n",
    "\n",
    "@author: BVR\n",
    "'''\n",
    "\n",
    "\n",
    "\n",
    "numList = [2000, 2003, 2005, 2006]\n",
    "stringList = [\"Advanced\", \"Python\", \"Course\"]\n",
    "mixedList = [1, 2, \"three\", 4]\n",
    "subList = [\"Python\", \"Course\", [\"Copyright\", 2006]]\n",
    "listList = [numList, stringList, mixedList, subList]\n",
    "\n"
   ]
  },
  {
   "cell_type": "code",
   "execution_count": 2,
   "metadata": {},
   "outputs": [
    {
     "name": "stdout",
     "output_type": "stream",
     "text": [
      "2001\n",
      "2004\n",
      "2006\n",
      "2007\n",
      "String:Advanced\n",
      "String:Python\n",
      "String:Course\n",
      "2\n",
      "3\n",
      "String:three\n",
      "5\n",
      "String:Python\n",
      "String:Course\n"
     ]
    }
   ],
   "source": [
    "\n",
    "for x in listList:\n",
    "    for y in x:\n",
    "        if isinstance(y, int):\n",
    "            print (y + 1)\n",
    "        if isinstance(y, str):\n",
    "            print (\"String:\" + y)\n",
    "            "
   ]
  },
  {
   "cell_type": "code",
   "execution_count": 3,
   "metadata": {},
   "outputs": [
    {
     "name": "stdout",
     "output_type": "stream",
     "text": [
      "['Joe', 42]\n",
      "[['Edward Gumby', 42], ['John Smith', 50]]\n"
     ]
    }
   ],
   "source": [
    "\n",
    "edward = ['Joe', 42] \n",
    "print (edward)\n",
    "\n",
    "\n",
    "\n",
    "edward = ['Edward Gumby', 42]\n",
    "john = ['John Smith', 50]\n",
    "database = [edward, john]\n",
    "print (database)\n"
   ]
  },
  {
   "cell_type": "code",
   "execution_count": 4,
   "metadata": {},
   "outputs": [
    {
     "name": "stdout",
     "output_type": "stream",
     "text": [
      "x\n",
      "[4.0, [1, -64.875], 'milk', (-1.9+6j)]\n"
     ]
    }
   ],
   "source": [
    "\n",
    "mixup_list = [4.0, [1, 'x'], 'milk', -1.9+6j]\n",
    "print (mixup_list[1][1])\n",
    "mixup_list[1][1] = -64.875\n",
    "print (mixup_list)\n",
    "\n",
    "\n"
   ]
  },
  {
   "cell_type": "code",
   "execution_count": 5,
   "metadata": {},
   "outputs": [
    {
     "name": "stdout",
     "output_type": "stream",
     "text": [
      "['One', 'Two', 'Three']\n"
     ]
    }
   ],
   "source": [
    "\n",
    "list1 = [\"One\", \"Two\", \"Three\"]\n",
    "list2 = [\"Five\", \"Six\"]\n",
    "\n",
    "print (list1)\n"
   ]
  },
  {
   "cell_type": "code",
   "execution_count": 6,
   "metadata": {},
   "outputs": [
    {
     "name": "stdout",
     "output_type": "stream",
     "text": [
      "['One', 'Two', 'Three', 'Four']\n",
      "[1, 2, 3, 4]\n",
      "['a', 'b', 'c', 'z', 'example']\n",
      "['a', 'b', 'c', 'z', 'example', 'new']\n",
      "['a', 'b', 'new', 'c', 'z', 'example', 'new']\n",
      "['a', 'b', 'new', 'c', 'z', 'example', 'new', 'two', 'elements']\n",
      "[0, 1, 1, 2, 3, 5, 8, 13, 21, 34]\n",
      "['P', 'y', 't', 'h', 'o', 'n']\n",
      "[1, 2, 1]\n"
     ]
    }
   ],
   "source": [
    "#Append item\n",
    "list1.append(\"Four\")\n",
    "print (list1)\n",
    "\n",
    "\n",
    "\n",
    "lst = [1, 2, 3]\n",
    "lst.append(4)\n",
    "print (lst)\n",
    "\n",
    "\n",
    "\n",
    "li = [\"a\", \"b\", \"c\", \"z\", \"example\"]      \n",
    "print(li) \n",
    "li.append(\"new\")                          \n",
    "print (li) \n",
    "li.insert(2, \"new\")                            \n",
    "print (li) \n",
    "li.extend([\"two\", \"elements\"])                \n",
    "print (li)\n",
    "\n",
    "\n",
    "\n",
    "fibs = [0, 1] \n",
    "for i in range(8):\n",
    "    fibs.append(fibs[-2] + fibs[-1]) \n",
    "\n",
    "print (fibs)\n",
    "\n",
    "\n",
    "\n",
    "word = \"Python\"\n",
    "list = []\n",
    "for ch in word:\n",
    "    list.append(ch)\n",
    "print (list)\n",
    "\n",
    "\n",
    "\n",
    "\n",
    "x = [1, 1, 1]\n",
    "x[1] = 2\n",
    "print (x)\n",
    "\n"
   ]
  },
  {
   "cell_type": "code",
   "execution_count": 7,
   "metadata": {},
   "outputs": [
    {
     "name": "stdout",
     "output_type": "stream",
     "text": [
      "[1, 2, 3, 4, 5]\n",
      "[1, 5]\n"
     ]
    }
   ],
   "source": [
    "\n",
    "\n",
    "numbers = [1, 5]\n",
    "numbers[1:1] = [2, 3, 4]\n",
    "print (numbers)\n",
    "\n",
    "\n",
    "\n",
    "numbers = [1, 2, 3, 4, 5]\n",
    "numbers[1:4] = []\n",
    "print (numbers)\n",
    "\n",
    "\n",
    "months = [\n",
    "    'January',\n",
    "    'February',\n",
    "    'March',\n",
    "    'April',\n",
    "    'May',\n",
    "    'June',\n",
    "    'July',\n",
    "    'August',\n",
    "    'September',\n",
    "    'October',\n",
    "    'November',\n",
    "    'December'\n",
    "]\n"
   ]
  },
  {
   "cell_type": "code",
   "execution_count": 8,
   "metadata": {},
   "outputs": [
    {
     "name": "stdout",
     "output_type": "stream",
     "text": [
      "August\n",
      "st\n"
     ]
    }
   ],
   "source": [
    "# A list with one ending for each number from 1 to 31\n",
    "endings = ['st', 'nd', 'rd'] + 17 * ['th'] \\\n",
    "        + ['st', 'nd', 'rd'] +  7 * ['th'] \\\n",
    "        + ['st']\n",
    "\n",
    "month_number = 8\n",
    "day_number = 1\n",
    "\n",
    "month_name = months[month_number-1]\n",
    "ordinal = endings[day_number-1]\n",
    "\n",
    "print (month_name) \n",
    "print (ordinal)"
   ]
  },
  {
   "cell_type": "code",
   "execution_count": 9,
   "metadata": {},
   "outputs": [
    {
     "name": "stdout",
     "output_type": "stream",
     "text": [
      "-1\n",
      "1\n",
      "[456, 'abc', 789]\n",
      "-1\n"
     ]
    }
   ],
   "source": [
    "\n",
    "\n",
    "def cmp(x, y):\n",
    "    \"\"\"\n",
    "    Replacement for built-in function cmp that was removed in Python 3\n",
    "\n",
    "    Compare the two objects x and y and return an integer according to\n",
    "    the outcome. The return value is negative if x < y, zero if x == y\n",
    "    and strictly positive if x > y.\n",
    "    \"\"\"\n",
    "\n",
    "    return (x > y) - (x < y)\n",
    "\n",
    "\n",
    "list1, list2 = [123, 'xyz'], [456, 'abc']\n",
    "print (cmp(list1, list2))\n",
    "print (cmp(list2, list1))\n",
    "list3 = list2 + [789]\n",
    "print (list3)\n",
    "print (cmp(list2, list3))\n"
   ]
  },
  {
   "cell_type": "code",
   "execution_count": 10,
   "metadata": {},
   "outputs": [
    {
     "name": "stdout",
     "output_type": "stream",
     "text": [
      "True\n",
      "True\n",
      "False\n",
      "True\n",
      "[43, -1.23, -2, 619000.0, 43, -1.23, -2, 619000.0]\n",
      "[43, -1.23, -2, 619000.0, 43, -1.23, -2, 619000.0, 43, -1.23, -2, 619000.0]\n",
      "[1, 2, 3, 4, 5, 6]\n",
      "Hello, world!\n",
      "['One', 'Two', 'Three', 'Five', 'Six']\n"
     ]
    }
   ],
   "source": [
    "\n",
    "print ([2, [1, 4]] < [2, [1, 5]])\n",
    "\n",
    "\n",
    "\n",
    "list1 = ['abc', 123]\n",
    "list2 = ['xyz', 789]\n",
    "list3 = ['abc', 123]\n",
    "print (list1 < list2)\n",
    "print (list2 < list3)\n",
    "print ( list2 > list3 and list1 == list3)\n",
    "\n",
    "\n",
    "\n",
    "num_list = [43, -1.23, -2, 6.19e5]\n",
    "\n",
    "print (num_list * 2)\n",
    "print (num_list * 3)\n",
    "\n",
    "\n",
    "\n",
    "print ([1, 2, 3] + [4, 5, 6])\n",
    "print ('Hello, ' + 'world!')\n",
    "\n",
    "\n",
    "\n",
    "list1 = [\"One\", \"Two\", \"Three\"]\n",
    "list2 = [\"Five\", \"Six\"]\n",
    "\n",
    "\n",
    "list1 += list2\n",
    "print (list1)\n"
   ]
  },
  {
   "cell_type": "code",
   "execution_count": 11,
   "metadata": {},
   "outputs": [
    {
     "name": "stdout",
     "output_type": "stream",
     "text": [
      "['a', 'b', 'mpilgrim', 'example', 'new']\n",
      "['a', 'b', 'mpilgrim', 'example', 'new', 'two']\n",
      "[1, 2, 1, 2, 1, 2]\n"
     ]
    }
   ],
   "source": [
    "\n",
    "li = ['a', 'b', 'mpilgrim'] \n",
    "li = li + ['example', 'new']              \n",
    "print (li) \n",
    "li += ['two']                                  \n",
    "print (li )\n",
    "li = [1, 2] * 3                               \n",
    "print (li)\n"
   ]
  },
  {
   "cell_type": "code",
   "execution_count": 12,
   "metadata": {},
   "outputs": [
    {
     "name": "stdout",
     "output_type": "stream",
     "text": [
      "2001\n",
      "2004\n",
      "2006\n",
      "2007\n",
      "String:Essential\n",
      "String:Python\n",
      "String:Code\n",
      "2\n",
      "3\n",
      "String:three\n",
      "5\n",
      "String:A\n",
      "String:B\n"
     ]
    }
   ],
   "source": [
    "\n",
    "\n",
    "numList = [2000, 2003, 2005, 2006]\n",
    "stringList = [\"Essential\", \"Python\", \"Code\"]\n",
    "mixedList = [1, 2, \"three\", 4]\n",
    "subList = [\"A\", \"B\", [\"C\", 2006]]\n",
    "listList = [numList, stringList, mixedList, subList]\n",
    "\n",
    "for x in listList:\n",
    "    for y in x:\n",
    "        if isinstance(y, int):\n",
    "            print (y + 1)\n",
    "        if isinstance(y, str):\n",
    "            print (\"String:\" + y)"
   ]
  },
  {
   "cell_type": "code",
   "execution_count": 13,
   "metadata": {},
   "outputs": [
    {
     "name": "stdout",
     "output_type": "stream",
     "text": [
      "Rating     Frequency\n",
      "     1             1\n",
      "     2             1\n",
      "     3             0\n",
      "     4             2\n",
      "     5             3\n",
      "     6             4\n",
      "     7             2\n",
      "     8             4\n",
      "     9             1\n",
      "    10             2\n"
     ]
    }
   ],
   "source": [
    "\n",
    "responses = [ 1, 2, 6, 4, 8, 5, 9, 7, 8, 10,\n",
    "              5, 6, 7, 5, 6, 4, 8, 6, 8, 10 ]\n",
    "\n",
    "print (\"Rating     Frequency\")\n",
    "\n",
    "for i in range( 1, 11 ):\n",
    "   print (\"%6d %13d\" % ( i, responses.count( i ) ))\n"
   ]
  },
  {
   "cell_type": "code",
   "execution_count": 14,
   "metadata": {},
   "outputs": [
    {
     "name": "stdout",
     "output_type": "stream",
     "text": [
      "[1, 2, 3, 4, 5]\n",
      "[1, 3, 4, 5]\n",
      "[3, 5]\n"
     ]
    }
   ],
   "source": [
    "\n",
    "x = [1, 2, 3, 4, 5]\n",
    "print (x)\n",
    "del x[1]                 # x is now [1, 3, 4, 5]\n",
    "print (x)\n",
    "del x[::2]               # x is now [3, 5]\n",
    "print (x)\n"
   ]
  },
  {
   "cell_type": "code",
   "execution_count": 15,
   "metadata": {},
   "outputs": [
    {
     "name": "stdout",
     "output_type": "stream",
     "text": [
      "['A', 'B', 'D', 'E']\n",
      "1 A Lee\n",
      "2 B Lee\n",
      "3 C Lee\n",
      "4 D Lee\n",
      "5 E Lee\n",
      "6 F Lee\n",
      "7 G Lee\n"
     ]
    }
   ],
   "source": [
    "\n",
    "names = ['A', 'B', 'C', 'D', 'E']\n",
    "del names[2]\n",
    "print (names)\n",
    "\n",
    "\n",
    "\n",
    "nameList = ['A', 'B', 'C', 'D','E', 'F', 'G']\n",
    "\n",
    "for i, eachLee in enumerate(nameList):\n",
    "     print (\"%d %s Lee\" % (i+1, eachLee))\n",
    "     "
   ]
  },
  {
   "cell_type": "code",
   "execution_count": 16,
   "metadata": {},
   "outputs": [
    {
     "name": "stdout",
     "output_type": "stream",
     "text": [
      "['a', 'b', 'c', 'd', 'e', 'f']\n",
      "6\n",
      "f\n"
     ]
    }
   ],
   "source": [
    "\n",
    "li = ['a', 'b', 'c'] \n",
    "li.extend(['d', 'e', 'f'])                \n",
    "print (li )\n",
    "print (len(li) )                                       \n",
    "print (li[-1])\n"
   ]
  },
  {
   "cell_type": "code",
   "execution_count": 17,
   "metadata": {},
   "outputs": [
    {
     "name": "stdout",
     "output_type": "stream",
     "text": [
      "[1, 2, 3, 4, 5, 6]\n",
      "['One', 'Two', 'Three', 'Five', 'Six']\n"
     ]
    }
   ],
   "source": [
    "\n",
    "a = [1, 2, 3]\n",
    "b = [4, 5, 6]\n",
    "a.extend(b)\n",
    "print( a)\n",
    "\n",
    "\n",
    "list1 = [\"One\", \"Two\", \"Three\"]\n",
    "list2 = [\"Five\", \"Six\"]\n",
    "\n",
    "list1.extend(list2)\n",
    "print (list1)\n"
   ]
  },
  {
   "cell_type": "code",
   "execution_count": 18,
   "metadata": {},
   "outputs": [
    {
     "name": "stdout",
     "output_type": "stream",
     "text": [
      "5\n",
      "2\n",
      "3\n"
     ]
    }
   ],
   "source": [
    "\n",
    "li = ['a', 'b', 'new', 'c', 'z', 'example', 'new', 'two', 'elements'] \n",
    "print (li.index(\"example\"))                       \n",
    "print (li.index(\"new\") )                               \n",
    "print (li.index(\"c\"))\n",
    "\n"
   ]
  },
  {
   "cell_type": "code",
   "execution_count": 19,
   "metadata": {},
   "outputs": [
    {
     "name": "stdout",
     "output_type": "stream",
     "text": [
      "H\n",
      "['a', 'b', 'c', 'z', 'example']\n",
      "example\n",
      "c\n"
     ]
    }
   ],
   "source": [
    "# All elements in a sequence are numbered-from zero and upwards. \n",
    "\n",
    "# A string is just a sequence of characters. \n",
    "# The index 0 refers to the first element, in this case the letter H. \n",
    "\n",
    "greeting = 'Hello'\n",
    "print (greeting[0])\n",
    "\n",
    "\n",
    "li = [\"a\", \"b\", \"c\", \"z\", \"example\"]      \n",
    "print (li )\n",
    "print (li[-1] )                                   \n",
    "print (li[-3])\n"
   ]
  },
  {
   "cell_type": "code",
   "execution_count": 20,
   "metadata": {},
   "outputs": [
    {
     "name": "stdout",
     "output_type": "stream",
     "text": [
      "2\n",
      "3\n",
      "4\n",
      "1 2 3\n",
      "2\n"
     ]
    }
   ],
   "source": [
    "numList = [1,2,3]\n",
    "\n",
    "for x in numList:\n",
    "    print (x+1)\n",
    "\n",
    "stringList = ['1','2','3']\n",
    "\n",
    "print (stringList[0] + ' ' + stringList[1] + ' ' + stringList[2])\n",
    "print (stringList[-2])\n"
   ]
  },
  {
   "cell_type": "code",
   "execution_count": 22,
   "metadata": {},
   "outputs": [
    {
     "name": "stdout",
     "output_type": "stream",
     "text": [
      "Advanced Python Course\n",
      "Python\n"
     ]
    }
   ],
   "source": [
    "\n",
    "\n",
    "stringList = [\"Advanced\", \"Python\", \"Course\"]\n",
    "\n",
    "print (stringList[0] + ' ' + stringList[1] + ' ' + stringList[2])\n",
    "\n",
    "\n",
    "\n",
    "print( stringList[-2])\n",
    "\n"
   ]
  },
  {
   "cell_type": "code",
   "execution_count": 23,
   "metadata": {},
   "outputs": [
    {
     "name": "stdout",
     "output_type": "stream",
     "text": [
      "o\n",
      "Year: 1212\n",
      "2\n",
      "4\n",
      "[1, 2, 3, 'four', 5, 6, 7]\n",
      "['One', 'Two', 'Two 1/2', 'Three']\n"
     ]
    }
   ],
   "source": [
    "#The last element is at position 1. \n",
    "\n",
    "greeting = 'Hello'\n",
    "print (greeting[-1])\n",
    "\n",
    "\n",
    "\n",
    "fourth = input('Year: ')[3]\n",
    "print (fourth)\n",
    "\n",
    "\n",
    "\n",
    "\n",
    "knights = ['We', 'are', 'the', 'knights', 'who', 'say', 'ni']\n",
    "print (knights.index('who'))\n",
    "\n",
    "\n",
    "\n",
    "numbers = [1, 2, 3, 5, 6, 7]\n",
    "numbers.insert(3, 'four')\n",
    "print (numbers)\n",
    "\n",
    "\n",
    "list1 = [\"One\", \"Two\", \"Three\"]\n",
    "list2 = [\"Five\", \"Six\"]\n",
    "\n",
    "list1.insert(2, \"Two 1/2\")\n",
    "print (list1)\n"
   ]
  },
  {
   "cell_type": "code",
   "execution_count": 24,
   "metadata": {},
   "outputs": [
    {
     "name": "stdout",
     "output_type": "stream",
     "text": [
      "a is 12 years old\n",
      "b is 45 years old\n",
      "c is 32 years old\n",
      "d is 102 years old\n",
      "3\n",
      "5\n",
      "range(0, 5)\n"
     ]
    }
   ],
   "source": [
    "#parallel iteration \n",
    "\n",
    "names = ['a', 'b', 'c', 'd'] \n",
    "ages = [12, 45, 32, 102] \n",
    "\n",
    "for i in range(len(names)): \n",
    "    print (names[i], 'is', ages[i], 'years old')\n",
    "\n",
    "\n",
    "\n",
    "numbers = [100, 34, 678]\n",
    "\n",
    "print (len(numbers))\n",
    "\n",
    "\n",
    "\n",
    "\n",
    "nameList = ['A', \"B\", 'C', 'D', 'E']\n",
    "\n",
    "print (len(nameList))\n",
    "print (range(len(nameList)))\n"
   ]
  },
  {
   "cell_type": "code",
   "execution_count": 27,
   "metadata": {},
   "outputs": [
    {
     "name": "stdout",
     "output_type": "stream",
     "text": [
      "The value of aList is: [1, 2, 3, 4, 5, 6, 7, 8, 9, 10]\n",
      "\n",
      "Accessing values by iteration:\n",
      "1\n",
      "2\n",
      "3\n",
      "4\n",
      "5\n",
      "6\n",
      "7\n",
      "8\n",
      "9\n",
      "10\n",
      "Subscript   Value\n",
      "        0       1\n",
      "        1       2\n",
      "        2       3\n",
      "        3       4\n",
      "        4       5\n",
      "        5       6\n",
      "        6       7\n",
      "        7       8\n",
      "        8       9\n",
      "        9      10\n",
      "\n",
      "Modifying a list value...\n",
      "Value of aList before modification: [1, 2, 3, 4, 5, 6, 7, 8, 9, 10]\n",
      "Value of aList after modification: [-100, 2, 3, 4, 5, 6, 7, 19, 9, 10]\n"
     ]
    }
   ],
   "source": [
    "\n",
    "aList = []    # create empty list\n",
    "\n",
    "for number in range( 1, 11 ):\n",
    "   aList += [ number ]\n",
    "\n",
    "print (\"The value of aList is:\", aList)   \n",
    "\n",
    "print (\"\\nAccessing values by iteration:\")\n",
    "\n",
    "for item in aList:\n",
    "   print (item,)\n",
    "\n",
    "\n",
    "print (\"Subscript   Value\")\n",
    "\n",
    "for i in range( len( aList ) ):\n",
    "   print (\"%9d %7d\" % ( i, aList[ i ] ))\n",
    "\n",
    "print (\"\\nModifying a list value...\")\n",
    "print (\"Value of aList before modification:\", aList)\n",
    "aList[ 0 ] = -100   \n",
    "aList[ -3 ] = 19\n",
    "print (\"Value of aList after modification:\", aList)"
   ]
  },
  {
   "cell_type": "code",
   "execution_count": 28,
   "metadata": {},
   "outputs": [
    {
     "name": "stdout",
     "output_type": "stream",
     "text": [
      "[0, 1, 4, 9, 16, 25, 36, 49, 64, 81]\n",
      "[0, 9, 36, 81]\n",
      "[(0, 0), (0, 1), (0, 2), (1, 0), (1, 1), (1, 2), (2, 0), (2, 1), (2, 2)]\n",
      "[2, 18, 16, 8]\n",
      "[1, 9, 8, 4]\n",
      "[2, 18, 16, 8]\n"
     ]
    }
   ],
   "source": [
    "\n",
    "print ([x*x for x in range(10)] )\n",
    "\n",
    "print ([x*x for x in range(10) if x % 3 == 0] )\n",
    "print( [(x, y) for x in range(3) for y in range(3)])\n",
    "\n",
    "li = [1, 9, 8, 4] \n",
    "print ([elem*2 for elem in li]  )                 \n",
    "print (li)                                        \n",
    "li = ([elem*2 for elem in li] )                 \n",
    "print (li)\n"
   ]
  },
  {
   "cell_type": "code",
   "execution_count": 29,
   "metadata": {},
   "outputs": [
    {
     "name": "stdout",
     "output_type": "stream",
     "text": [
      "dict_items([('server', 'yourServer'), ('database', 'master'), ('uid', 'sa'), ('pwd', 'secret')])\n",
      "['server', 'database', 'uid', 'pwd']\n",
      "['yourServer', 'master', 'sa', 'secret']\n",
      "['server=yourServer', 'database=master', 'uid=sa', 'pwd=secret']\n"
     ]
    }
   ],
   "source": [
    "\n",
    "params = {\"server\":\"yourServer\", \"database\":\"master\", \"uid\":\"sa\", \"pwd\":\"secret\"} \n",
    "print (params.items() )\n",
    "print ([k for k, v in params.items()])            \n",
    "print ([v for k, v in params.items()]  )               \n",
    "print ([\"%s=%s\" % (k, v) for k, v in params.items()])\n",
    "\n"
   ]
  },
  {
   "cell_type": "code",
   "execution_count": 30,
   "metadata": {},
   "outputs": [
    {
     "name": "stdout",
     "output_type": "stream",
     "text": [
      "['mpilgrim', 'foo']\n",
      "['a', 'mpilgrim', 'foo', 'c', 'd', 'd']\n",
      "['a', 'mpilgrim', 'foo', 'c']\n"
     ]
    }
   ],
   "source": [
    "\n",
    "li = [\"a\", \"mpilgrim\", \"foo\", \"b\", \"c\", \"b\", \"d\", \"d\"] \n",
    "print( [elem for elem in li if len(elem) > 1])    \n",
    "print ([elem for elem in li if elem != \"b\"]     )      \n",
    "print ([elem for elem in li if li.count(elem) == 1])\n",
    "\n",
    "\n"
   ]
  },
  {
   "cell_type": "code",
   "execution_count": 31,
   "metadata": {},
   "outputs": [
    {
     "name": "stdout",
     "output_type": "stream",
     "text": [
      "[16, -4, 10]\n",
      "[0, 2, 4, 6]\n"
     ]
    },
    {
     "ename": "FileNotFoundError",
     "evalue": "[Errno 2] No such file or directory: 'script1.py'",
     "output_type": "error",
     "traceback": [
      "\u001b[1;31m---------------------------------------------------------------------------\u001b[0m",
      "\u001b[1;31mFileNotFoundError\u001b[0m                         Traceback (most recent call last)",
      "\u001b[1;32m<ipython-input-31-d45fa55cb3a8>\u001b[0m in \u001b[0;36m<module>\u001b[1;34m()\u001b[0m\n\u001b[0;32m      5\u001b[0m \u001b[1;33m\u001b[0m\u001b[0m\n\u001b[0;32m      6\u001b[0m \u001b[1;33m\u001b[0m\u001b[0m\n\u001b[1;32m----> 7\u001b[1;33m \u001b[0mlines\u001b[0m \u001b[1;33m=\u001b[0m \u001b[1;33m[\u001b[0m\u001b[0mline\u001b[0m\u001b[1;33m.\u001b[0m\u001b[0mrstrip\u001b[0m\u001b[1;33m(\u001b[0m  \u001b[1;33m)\u001b[0m \u001b[1;32mfor\u001b[0m \u001b[0mline\u001b[0m \u001b[1;32min\u001b[0m \u001b[0mopen\u001b[0m\u001b[1;33m(\u001b[0m\u001b[1;34m'script1.py'\u001b[0m\u001b[1;33m)\u001b[0m \u001b[1;32mif\u001b[0m \u001b[0mline\u001b[0m\u001b[1;33m[\u001b[0m\u001b[1;36m0\u001b[0m\u001b[1;33m]\u001b[0m \u001b[1;33m==\u001b[0m \u001b[1;34m'p'\u001b[0m\u001b[1;33m]\u001b[0m\u001b[1;33m\u001b[0m\u001b[0m\n\u001b[0m\u001b[0;32m      8\u001b[0m \u001b[1;33m\u001b[0m\u001b[0m\n\u001b[0;32m      9\u001b[0m \u001b[0mres\u001b[0m \u001b[1;33m=\u001b[0m \u001b[1;33m[\u001b[0m\u001b[1;33m]\u001b[0m\u001b[1;33m\u001b[0m\u001b[0m\n",
      "\u001b[1;31mFileNotFoundError\u001b[0m: [Errno 2] No such file or directory: 'script1.py'"
     ]
    }
   ],
   "source": [
    "\n",
    "print ([ i * 2 for i in [8, -2, 5] ])\n",
    "print ([ i for i in range(8) if i % 2 == 0 ])\n",
    "\n",
    "\n",
    "\n",
    "lines = [line.rstrip(  ) for line in open('script1.py') if line[0] == 'p']\n",
    "\n",
    "res = []\n",
    "for line in open('script1.py'):\n",
    "    if line[0] == 'p':\n",
    "        res.append(line.rstrip(  ))\n",
    "print (res)\n",
    "\n",
    "\n"
   ]
  },
  {
   "cell_type": "code",
   "execution_count": 32,
   "metadata": {},
   "outputs": [
    {
     "name": "stdout",
     "output_type": "stream",
     "text": [
      "Play 1: 1qqqq\n",
      "Play 2: 122222\n",
      "Play 3: 122222\n",
      "Play 4: 11111\n",
      "Play 5: 222\n",
      "\n",
      "Subscript     Value\n",
      "        1     1qqqq                    \n",
      "        2     122222                   \n",
      "        3     122222                   \n",
      "        4     11111                    \n",
      "        5     222                      \n"
     ]
    }
   ],
   "source": [
    "\n",
    "playList = []     # list of favorite plays\n",
    "\n",
    "for i in range( 5 ):\n",
    "   playName = input( \"Play %d: \" % ( i + 1 ) )\n",
    "   playList.append( playName )\n",
    "   \n",
    "print (\"\\nSubscript     Value\")\n",
    "\n",
    "for i in range( len( playList ) ):\n",
    "   print (\"%9d     %-25s\" % ( i + 1, playList[ i ] ))"
   ]
  },
  {
   "cell_type": "code",
   "execution_count": 34,
   "metadata": {},
   "outputs": [
    {
     "name": "stdout",
     "output_type": "stream",
     "text": [
      "A Lim\n",
      "B Lim\n",
      "C Lim\n",
      "D Lim\n",
      "Liu, A\n",
      "Liu, B\n",
      "Liu, C\n",
      "Liu, D\n",
      "Liu, E\n"
     ]
    }
   ],
   "source": [
    "\n",
    "nameList = ['A', \"B\", 'C', 'D']\n",
    "for eachName in nameList:\n",
    "     print (eachName, \"Lim\")\n",
    "\n",
    "\n",
    "\n",
    "nameList = ['A', \"B\", 'C', 'D', 'E']\n",
    "for nameIndex in range(len(nameList)):\n",
    "     print (\"Liu,\", nameList[nameIndex])\n",
    "     \n",
    "     \n",
    "     "
   ]
  },
  {
   "cell_type": "code",
   "execution_count": 35,
   "metadata": {},
   "outputs": [
    {
     "name": "stdout",
     "output_type": "stream",
     "text": [
      "A Lim\n",
      "B Lim\n",
      "C Lim\n",
      "D Lim\n",
      "Liu, A\n",
      "Liu, B\n",
      "Liu, C\n",
      "Liu, D\n",
      "Liu, E\n"
     ]
    },
    {
     "data": {
      "text/plain": [
       "-2"
      ]
     },
     "execution_count": 35,
     "metadata": {},
     "output_type": "execute_result"
    }
   ],
   "source": [
    "  \n",
    "nameList = ['A', \"B\", 'C', 'D']\n",
    "for eachName in nameList:\n",
    "    print(eachName, \"Lim\")\n",
    "\n",
    "nameList = ['A', \"B\", 'C', 'D', 'E']\n",
    "for nameIndex in range(len(nameList)):\n",
    "    print(\"Liu,\", nameList[nameIndex])\n",
    "\n",
    "num_list = [43, -1.23, -2, 6.19e5]\n",
    "str_list = ['jack', 'jumped', 'over', 'candlestick']\n",
    "mixup_list = [4.0, [1, 'x'], 'beef', -1.9+6j]\n",
    "\n",
    "max(str_list)\n",
    "max(num_list)\n",
    "min(str_list)\n",
    "min(num_list)\n",
    "\n"
   ]
  },
  {
   "cell_type": "code",
   "execution_count": 36,
   "metadata": {},
   "outputs": [
    {
     "name": "stdout",
     "output_type": "stream",
     "text": [
      "678\n",
      "3\n",
      "True\n",
      "False\n",
      "True\n",
      "False\n",
      "False\n",
      "False\n"
     ]
    }
   ],
   "source": [
    "\n",
    "numbers = [100, 34, 678]\n",
    "print (max(numbers))\n",
    "print (max(2, 3))\n",
    "\n",
    "\n",
    "\n",
    "mixup_list = [4.0, [1, 'x'], 'beef', (-1.9+6j)]\n",
    "print ('beef' in mixup_list)\n",
    "print( 'x' in mixup_list)\n",
    "print( 'x' in mixup_list[1])\n",
    "\n",
    "num_list = [1,2,3]\n",
    "print (-49 in num_list)\n",
    "print (34 in num_list)\n",
    "print ([65535, 2e+030, (76.45-1.3j)] in num_list)\n"
   ]
  },
  {
   "cell_type": "code",
   "execution_count": 38,
   "metadata": {},
   "outputs": [
    {
     "name": "stdout",
     "output_type": "stream",
     "text": [
      "2001\n",
      "2004\n",
      "2006\n",
      "2007\n",
      "0\n",
      "1\n",
      "2\n",
      "pythonpythonpython\n",
      "[42, 42, 42, 42, 42, 42, 42, 42, 42, 42]\n"
     ]
    }
   ],
   "source": [
    "\n",
    "database = [\n",
    "    ['a',  '1234'],\n",
    "    ['b',  '4242'],\n",
    "    ['c',  '7524'],\n",
    "    ['d',  '9843']\n",
    "]\n",
    "\n",
    "username = 'albert'\n",
    "pin = '1234'\n",
    "\n",
    "if [username, pin] in database: print ('Access granted')\n",
    "\n",
    "\n",
    "numList = [2000, 2003, 2005, 2006]\n",
    "\n",
    "for x in numList:\n",
    "    print (x+1)\n",
    "    \n",
    "    \n",
    "    \n",
    "for eachNum in [0, 1, 2]:\n",
    "    print (eachNum)\n",
    "    \n",
    "    \n",
    "    \n",
    "print ('python' * 3)\n",
    "print( [42] * 10)"
   ]
  },
  {
   "cell_type": "code",
   "execution_count": 39,
   "metadata": {},
   "outputs": [
    {
     "name": "stdout",
     "output_type": "stream",
     "text": [
      "Three\n",
      "['One', 'Two']\n",
      "[1, 2]\n",
      "[2]\n"
     ]
    }
   ],
   "source": [
    "\n",
    "list1 = [\"One\", \"Two\", \"Three\"]\n",
    "list2 = [\"Five\", \"Six\"]\n",
    "\n",
    "\n",
    "print (list1.pop(2))\n",
    "print( list1)\n",
    "\n",
    "\n",
    "\n",
    "\n",
    "x = [1, 2, 3]\n",
    "x.pop()\n",
    "print( x)\n",
    "x.pop(0)\n",
    "print (x)\n"
   ]
  },
  {
   "cell_type": "code",
   "execution_count": 40,
   "metadata": {},
   "outputs": [
    {
     "name": "stdout",
     "output_type": "stream",
     "text": [
      "['x', 'y', 'z', 'a', 'c', 'b']\n",
      "[3, 2, 1]\n"
     ]
    }
   ],
   "source": [
    "\n",
    "letterList = ['b', 'c', 'a', 'z', 'y', 'x']\n",
    "\n",
    "\n",
    "letterList.reverse()\n",
    "print (letterList)\n",
    "\n",
    "\n",
    "x = [1, 2, 3]\n",
    "x.reverse()\n",
    "print (x)\n"
   ]
  },
  {
   "cell_type": "code",
   "execution_count": 43,
   "metadata": {},
   "outputs": [
    {
     "name": "stdout",
     "output_type": "stream",
     "text": [
      "Enter 10 integers:\n",
      "Enter integer 1: 11\n",
      "Enter integer 2: 22\n",
      "Enter integer 3: 33\n",
      "Enter integer 4: 44\n",
      "Enter integer 5: 55\n",
      "Enter integer 6: 66\n",
      "Enter integer 7: 77\n",
      "Enter integer 8: 88\n",
      "Enter integer 9: 99\n",
      "Enter integer 10: 122\n",
      "\n",
      "Creating a histogram from values:\n",
      "Element      Value  Histogram\n",
      "      0         11  ***********\n",
      "      1         22  **********************\n",
      "      2         33  *********************************\n",
      "      3         44  ********************************************\n",
      "      4         55  *******************************************************\n",
      "      5         66  ******************************************************************\n",
      "      6         77  *****************************************************************************\n",
      "      7         88  ****************************************************************************************\n",
      "      8         99  ***************************************************************************************************\n",
      "      9        122  **************************************************************************************************************************\n"
     ]
    }
   ],
   "source": [
    "\n",
    "values = []   # a list of values\n",
    "\n",
    "print (\"Enter 10 integers:\")\n",
    "\n",
    "for i in range( 10 ):\n",
    "   newValue = int( input( \"Enter integer %d: \" % ( i + 1 ) ) )\n",
    "   values += [ newValue ]\n",
    "\n",
    "print (\"\\nCreating a histogram from values:\")\n",
    "print (\"%s %10s %10s\" % ( \"Element\", \"Value\", \"Histogram\" ))\n",
    "\n",
    "for i in range( len( values ) ):\n",
    "   print (\"%7d %10d  %s\" % ( i, values[ i ], \"*\" * values[ i ] ))\n",
    "   "
   ]
  },
  {
   "cell_type": "code",
   "execution_count": null,
   "metadata": {},
   "outputs": [],
   "source": [
    "\n",
    "   f = open('script1.py')\n",
    "lines = f.readlines(  )\n",
    "print (lines)\n",
    "\n",
    "lines = [line.rstrip(  ) for line in lines]\n",
    "print (lines)\n",
    "\n"
   ]
  },
  {
   "cell_type": "code",
   "execution_count": 44,
   "metadata": {},
   "outputs": [
    {
     "name": "stdout",
     "output_type": "stream",
     "text": [
      "http://brvishwanath.b\n",
      "gspot.sg\">Vishwanath Rao\n"
     ]
    }
   ],
   "source": [
    "\n",
    "numbers = [1, 2, 3, 4, 5, 6, 7, 8, 9, 10]\n",
    "numbers[:]\n",
    "\n",
    "\n",
    "tag = '<a href=\"http://brvishwanath.blogspot.sg\">Vishwanath Rao</a>'\n",
    "print (tag[9:30])\n",
    "print (tag[32:-4])"
   ]
  },
  {
   "cell_type": "code",
   "execution_count": 45,
   "metadata": {},
   "outputs": [
    {
     "name": "stdout",
     "output_type": "stream",
     "text": [
      "[1, 22, 33, 44, 4]\n",
      "[1, 8, 9, 4]\n"
     ]
    }
   ],
   "source": [
    "\n",
    "x = [1, 2, 3, 4]\n",
    "x[1:3] = [22, 33, 44]     # x is now [1, 22, 33, 44, 4]\n",
    "print (x)\n",
    "x[1:4] = [8, 9]           # x is now [1, 8, 9, 4]\n",
    "print (x)\n"
   ]
  },
  {
   "cell_type": "code",
   "execution_count": 46,
   "metadata": {},
   "outputs": [
    {
     "name": "stdout",
     "output_type": "stream",
     "text": [
      "['a', 'b', 'c', 'z', 'example']\n",
      "['a', 'b', 'c']\n",
      "['z', 'example']\n",
      "['a', 'b', 'c', 'z', 'example']\n"
     ]
    }
   ],
   "source": [
    "\n",
    "li = [\"a\", \"b\", \"c\", \"z\", \"example\"]      \n",
    "print (li )\n",
    "print (li[:3] )                                   \n",
    "print (li[3:])                                     \n",
    "print (li[:])\n",
    "\n"
   ]
  },
  {
   "cell_type": "code",
   "execution_count": 47,
   "metadata": {},
   "outputs": [
    {
     "name": "stdout",
     "output_type": "stream",
     "text": [
      "[4, 5, 6]\n",
      "[1]\n",
      "[8, 9, 10]\n",
      "[8, 9]\n"
     ]
    },
    {
     "data": {
      "text/plain": [
       "[8, 9, 10]"
      ]
     },
     "execution_count": 47,
     "metadata": {},
     "output_type": "execute_result"
    }
   ],
   "source": [
    "\n",
    "numbers = [1, 2, 3, 4, 5, 6, 7, 8, 9, 10]\n",
    "print (numbers[3:6])\n",
    "print (numbers[0:1])\n",
    "\n",
    "\n",
    "numbers = [1, 2, 3, 4, 5, 6, 7, 8, 9, 10]\n",
    "print (numbers[7:100])\n",
    "\n",
    "\n",
    "\n",
    "numbers = [1, 2, 3, 4, 5, 6, 7, 8, 9, 10]\n",
    "\n",
    "print (numbers[-3:-1])\n",
    "\n",
    "\n",
    "numbers = [1, 2, 3, 4, 5, 6, 7, 8, 9, 10]\n",
    "numbers[-3:]\n"
   ]
  },
  {
   "cell_type": "code",
   "execution_count": 48,
   "metadata": {},
   "outputs": [
    {
     "name": "stdout",
     "output_type": "stream",
     "text": [
      "['z', 'y', 'x', 'c', 'b', 'a']\n",
      "[1, 2, 4, 6, 7, 9]\n"
     ]
    }
   ],
   "source": [
    "\n",
    "numbers = [1, 2, 3, 4, 5, 6, 7, 8, 9, 10]\n",
    "numbers[:3]\n",
    "\n",
    "\n",
    "\n",
    "\n",
    "letterList = ['b', 'c', 'a', 'z', 'y', 'x']\n",
    "\n",
    "\n",
    "letterList.sort(reverse=1)\n",
    "print (letterList)\n",
    "\n",
    "\n",
    "x = [4, 6, 2, 1, 7, 9]\n",
    "x.sort()\n",
    "print (x)"
   ]
  },
  {
   "cell_type": "code",
   "execution_count": 49,
   "metadata": {},
   "outputs": [
    {
     "name": "stdout",
     "output_type": "stream",
     "text": [
      "['a', 'ab', 'ac', 'ae', 'add']\n",
      "[9, 7, 6, 4, 2, 1]\n",
      "['b', 'c', 'a', 'z', 'y', 'x']\n",
      "['a', 'b', 'c', 'x', 'y', 'z']\n"
     ]
    }
   ],
   "source": [
    "\n",
    "x = ['a', 'ab', 'ac', 'add', 'ae']\n",
    "x.sort(key=len)\n",
    "print (x)\n",
    "\n",
    "\n",
    "\n",
    "x = [4, 6, 2, 1, 7, 9]\n",
    "x.sort(reverse=True)\n",
    "print (x)\n",
    "\n",
    "\n",
    "letterList = ['b', 'c', 'a', 'z', 'y', 'x']\n",
    "\n",
    "print (letterList)\n",
    "letterList.sort()\n",
    "print (letterList)\n"
   ]
  },
  {
   "cell_type": "code",
   "execution_count": 50,
   "metadata": {},
   "outputs": [
    {
     "name": "stdout",
     "output_type": "stream",
     "text": [
      "['d', 'B', 'F', 'A', 'E', 'c']\n",
      "['A', 'B', 'E', 'F', 'c', 'd']\n",
      "['A', 'B', 'c', 'd', 'E', 'F']\n"
     ]
    }
   ],
   "source": [
    "\n",
    "caseList = ['d', 'B', 'F', 'A', 'E', 'c']\n",
    "\n",
    "\n",
    "print (caseList)\n",
    "caseList.sort()\n",
    "print (caseList)\n",
    "caseList.sort(key=str.lower)\n",
    "print (caseList)\n"
   ]
  },
  {
   "cell_type": "code",
   "execution_count": 51,
   "metadata": {},
   "outputs": [
    {
     "name": "stdout",
     "output_type": "stream",
     "text": [
      "15\n",
      "20\n",
      "15.0\n",
      "34\n",
      "2\n"
     ]
    }
   ],
   "source": [
    "\n",
    "a = [6, 4, 5]\n",
    "print (sum(a))\n",
    "print (sum(a, 5))\n",
    "a = [6., 4., 5.]\n",
    "print (sum(a))\n",
    "\n",
    "\n",
    "numbers = [100, 34, 678]\n",
    "print (min(numbers))\n",
    "print (min(9, 3, 2, 5))\n"
   ]
  },
  {
   "cell_type": "code",
   "execution_count": null,
   "metadata": {},
   "outputs": [],
   "source": []
  }
 ],
 "metadata": {
  "kernelspec": {
   "display_name": "Python 3",
   "language": "python",
   "name": "python3"
  },
  "language_info": {
   "codemirror_mode": {
    "name": "ipython",
    "version": 3
   },
   "file_extension": ".py",
   "mimetype": "text/x-python",
   "name": "python",
   "nbconvert_exporter": "python",
   "pygments_lexer": "ipython3",
   "version": "3.8.8"
  }
 },
 "nbformat": 4,
 "nbformat_minor": 4
}
