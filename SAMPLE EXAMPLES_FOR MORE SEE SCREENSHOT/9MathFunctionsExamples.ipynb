{
 "cells": [
  {
   "cell_type": "code",
   "execution_count": 1,
   "metadata": {},
   "outputs": [
    {
     "name": "stdout",
     "output_type": "stream",
     "text": [
      "abs(-45) :  45\n",
      "abs(100.12) :  100.12\n",
      "abs(119L) :  119\n"
     ]
    }
   ],
   "source": [
    "print(\"abs(-45) : \", abs(-45))\n",
    "print(\"abs(100.12) : \", abs(100.12))\n",
    "print(\"abs(119L) : \", abs(119))\n"
   ]
  },
  {
   "cell_type": "code",
   "execution_count": 2,
   "metadata": {},
   "outputs": [
    {
     "name": "stdout",
     "output_type": "stream",
     "text": [
      "math.ceil(-45.17) :  -45\n",
      "math.ceil(100.12) :  101\n",
      "math.ceil(100.72) :  101\n",
      "math.ceil(119L) :  119\n",
      "math.ceil(math.pi) :  4\n"
     ]
    }
   ],
   "source": [
    "import math  # This will import math module\n",
    "\n",
    "print(\"math.ceil(-45.17) : \", math.ceil(-45.17))\n",
    "print(\"math.ceil(100.12) : \", math.ceil(100.12))\n",
    "print(\"math.ceil(100.72) : \", math.ceil(100.72))\n",
    "print(\"math.ceil(119L) : \", math.ceil(119))\n",
    "print(\"math.ceil(math.pi) : \", math.ceil(math.pi))\n",
    "\n",
    "\n"
   ]
  },
  {
   "cell_type": "code",
   "execution_count": 3,
   "metadata": {},
   "outputs": [
    {
     "name": "stdout",
     "output_type": "stream",
     "text": [
      "cmp(80, 100) :  -1\n",
      "cmp(180, 100) :  1\n",
      "cmp(-80, 100) :  -1\n",
      "cmp(80, -100) :  1\n"
     ]
    }
   ],
   "source": [
    "\n",
    "def cmp(a, b):\n",
    "    return (a > b) - (a < b)\n",
    "\n",
    "\n",
    "\n",
    "print(\"cmp(80, 100) : \", cmp(80, 100))\n",
    "print(\"cmp(180, 100) : \", cmp(180, 100))\n",
    "print(\"cmp(-80, 100) : \", cmp(-80, 100))\n",
    "print(\"cmp(80, -100) : \", cmp(80, -100))\n"
   ]
  },
  {
   "cell_type": "code",
   "execution_count": 4,
   "metadata": {},
   "outputs": [
    {
     "name": "stdout",
     "output_type": "stream",
     "text": [
      "-1\n",
      "1\n",
      "-1\n"
     ]
    }
   ],
   "source": [
    "\n",
    "\n",
    "list1, list2 = [123, 'xyz'], [456, 'abc']\n",
    "print(cmp(list1, list2))\n",
    "print(cmp(list2, list1))\n",
    "list3 = list2 + [786];\n",
    "print(cmp(list2, list3))\n"
   ]
  },
  {
   "cell_type": "code",
   "execution_count": 5,
   "metadata": {},
   "outputs": [
    {
     "name": "stdout",
     "output_type": "stream",
     "text": [
      "math.exp(-45.17) :  2.4150062132629406e-20\n",
      "math.exp(100.12) :  3.0308436140742566e+43\n",
      "math.exp(100.72) :  5.522557130248187e+43\n",
      "math.exp(119L) :  4.797813327299302e+51\n",
      "math.exp(math.pi) :  23.140692632779267\n"
     ]
    }
   ],
   "source": [
    "\n",
    "print (\"math.exp(-45.17) : \", math.exp(-45.17))\n",
    "print (\"math.exp(100.12) : \", math.exp(100.12))\n",
    "print (\"math.exp(100.72) : \", math.exp(100.72))\n",
    "print (\"math.exp(119L) : \", math.exp(119))\n",
    "print (\"math.exp(math.pi) : \", math.exp(math.pi))\n"
   ]
  },
  {
   "cell_type": "code",
   "execution_count": 6,
   "metadata": {},
   "outputs": [
    {
     "name": "stdout",
     "output_type": "stream",
     "text": [
      "math.fabs(-45.17) :  45.17\n",
      "math.fabs(100.12) :  100.12\n",
      "math.fabs(100.72) :  100.72\n",
      "math.fabs(119L) :  119.0\n",
      "math.fabs(math.pi) :  3.141592653589793\n"
     ]
    }
   ],
   "source": [
    "\n",
    "#absolute value\n",
    "\n",
    "print (\"math.fabs(-45.17) : \", math.fabs(-45.17))\n",
    "print (\"math.fabs(100.12) : \", math.fabs(100.12))\n",
    "print (\"math.fabs(100.72) : \", math.fabs(100.72))\n",
    "print (\"math.fabs(119L) : \", math.fabs(119))\n",
    "print (\"math.fabs(math.pi) : \", math.fabs(math.pi))\n",
    "\n"
   ]
  },
  {
   "cell_type": "code",
   "execution_count": 7,
   "metadata": {},
   "outputs": [
    {
     "name": "stdout",
     "output_type": "stream",
     "text": [
      "math.floor(-45.17) :  -46\n",
      "math.floor(100.12) :  100\n",
      "math.floor(100.72) :  100\n",
      "math.floor(119L) :  119\n",
      "math.floor(math.pi) :  3\n"
     ]
    }
   ],
   "source": [
    "\n",
    "print (\"math.floor(-45.17) : \", math.floor(-45.17))\n",
    "print (\"math.floor(100.12) : \", math.floor(100.12))\n",
    "print (\"math.floor(100.72) : \", math.floor(100.72))\n",
    "print (\"math.floor(119L) : \", math.floor(119))\n",
    "print (\"math.floor(math.pi) : \", math.floor(math.pi))"
   ]
  },
  {
   "cell_type": "code",
   "execution_count": 8,
   "metadata": {},
   "outputs": [
    {
     "name": "stdout",
     "output_type": "stream",
     "text": [
      "math.log(100.12) :  4.6063694665635735\n",
      "math.log(100.72) :  4.612344389736092\n",
      "math.log(119L) :  4.77912349311153\n",
      "math.log(math.pi) :  1.1447298858494002\n"
     ]
    }
   ],
   "source": [
    "\n",
    "print (\"math.log(100.12) : \", math.log(100.12))\n",
    "print (\"math.log(100.72) : \", math.log(100.72))\n",
    "print (\"math.log(119L) : \", math.log(119))\n",
    "print (\"math.log(math.pi) : \", math.log(math.pi))"
   ]
  },
  {
   "cell_type": "code",
   "execution_count": 9,
   "metadata": {},
   "outputs": [
    {
     "name": "stdout",
     "output_type": "stream",
     "text": [
      "math.log10(100.12) :  2.0005208409361854\n",
      "math.log10(100.72) :  2.003115717099806\n",
      "math.log10(119L) :  2.0755469613925306\n",
      "math.log10(math.pi) :  0.49714987269413385\n"
     ]
    }
   ],
   "source": [
    "\n",
    "print (\"math.log10(100.12) : \", math.log10(100.12))\n",
    "print (\"math.log10(100.72) : \", math.log10(100.72))\n",
    "print (\"math.log10(119L) : \", math.log10(119))\n",
    "print (\"math.log10(math.pi) : \", math.log10(math.pi))\n"
   ]
  },
  {
   "cell_type": "code",
   "execution_count": null,
   "metadata": {},
   "outputs": [],
   "source": []
  }
 ],
 "metadata": {
  "kernelspec": {
   "display_name": "Python 3",
   "language": "python",
   "name": "python3"
  },
  "language_info": {
   "codemirror_mode": {
    "name": "ipython",
    "version": 3
   },
   "file_extension": ".py",
   "mimetype": "text/x-python",
   "name": "python",
   "nbconvert_exporter": "python",
   "pygments_lexer": "ipython3",
   "version": "3.7.2"
  }
 },
 "nbformat": 4,
 "nbformat_minor": 2
}
