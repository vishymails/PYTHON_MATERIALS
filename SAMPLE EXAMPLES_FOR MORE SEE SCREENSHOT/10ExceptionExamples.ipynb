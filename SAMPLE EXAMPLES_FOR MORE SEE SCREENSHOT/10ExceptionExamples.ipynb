{
 "cells": [
  {
   "cell_type": "code",
   "execution_count": 2,
   "metadata": {},
   "outputs": [
    {
     "name": "stdout",
     "output_type": "stream",
     "text": [
      "Enter numerator: 0\n",
      "Enter denominator: 0\n",
      "Attempted to divide by zero\n"
     ]
    }
   ],
   "source": [
    "'''\n",
    "Created on Mar 20, 2018\n",
    "\n",
    "@author: BVR\n",
    "'''\n",
    "number1 = input( \"Enter numerator: \" )\n",
    "number2 = input( \"Enter denominator: \" )\n",
    "\n",
    "# attempt to convert and divide values\n",
    "try:\n",
    "   number1 = float( number1 )\n",
    "   number2 = float( number2 )\n",
    "   result = number1 / number2\n",
    "\n",
    "# float raises a ValueError exception   \n",
    "except ValueError:\n",
    "   print (\"You must enter two numbers\")\n",
    "\n",
    "# division by zero raises a ZeroDivisionError exception   \n",
    "except ZeroDivisionError:\n",
    "   print (\"Attempted to divide by zero\")\n",
    "\n",
    "# else clause's suite executes if try suite raises no exceptions\n",
    "else:\n",
    "   print (\"%.3f / %.3f = %.3f\" % ( number1, number2, result ))"
   ]
  },
  {
   "cell_type": "code",
   "execution_count": 4,
   "metadata": {},
   "outputs": [
    {
     "name": "stdout",
     "output_type": "stream",
     "text": [
      "Enter your name: \n",
      "You entered: \n"
     ]
    }
   ],
   "source": [
    "'''\n",
    "Created on Mar 20, 2018\n",
    "\n",
    "@author: BVR\n",
    "'''\n",
    "\n",
    "  #Keyboard inputs\n",
    "try:\n",
    "    name = input(\"Enter your name: \")\n",
    "    print (\"You entered: \" + name)\n",
    "except KeyboardInterrupt:\n",
    "    print (\"You hit control-c\")\n",
    "    "
   ]
  },
  {
   "cell_type": "code",
   "execution_count": 5,
   "metadata": {},
   "outputs": [
    {
     "data": {
      "text/plain": [
       "'\\nStandard Python Error Types\\n\\nException             \\nStandardError         \\nArithmeticError       \\nLookupError           \\nAssertionError        \\nAttributeError        \\nEOFError              \\nEnvironmentError      \\nFloatingPointError    \\nGeneratorExit         \\nIOError               \\nImportError           \\nIndexError            \\nKeyError              \\nKeyboardInterrupt     \\nMemoryError           \\nNameError             \\nNotImplementedError   \\nOsError               \\nOverflowError         \\nReferenceError        \\nStopIteration         \\nSyntaxError           \\nSystemError           \\nTypeError             \\nUnboundLocalError     \\nValueError            \\nWindowsError          \\nZeroDivisionError\\n\\n'"
      ]
     },
     "execution_count": 5,
     "metadata": {},
     "output_type": "execute_result"
    }
   ],
   "source": [
    "'''\n",
    "Standard Python Error Types\n",
    "\n",
    "Exception             \n",
    "StandardError         \n",
    "ArithmeticError       \n",
    "LookupError           \n",
    "AssertionError        \n",
    "AttributeError        \n",
    "EOFError              \n",
    "EnvironmentError      \n",
    "FloatingPointError    \n",
    "GeneratorExit         \n",
    "IOError               \n",
    "ImportError           \n",
    "IndexError            \n",
    "KeyError              \n",
    "KeyboardInterrupt     \n",
    "MemoryError           \n",
    "NameError             \n",
    "NotImplementedError   \n",
    "OsError               \n",
    "OverflowError         \n",
    "ReferenceError        \n",
    "StopIteration         \n",
    "SyntaxError           \n",
    "SystemError           \n",
    "TypeError             \n",
    "UnboundLocalError     \n",
    "ValueError            \n",
    "WindowsError          \n",
    "ZeroDivisionError\n",
    "\n",
    "'''\n"
   ]
  },
  {
   "cell_type": "code",
   "execution_count": 6,
   "metadata": {},
   "outputs": [
    {
     "ename": "ZeroDivisionError",
     "evalue": "division by zero",
     "output_type": "error",
     "traceback": [
      "\u001b[1;31m---------------------------------------------------------------------------\u001b[0m",
      "\u001b[1;31mZeroDivisionError\u001b[0m                         Traceback (most recent call last)",
      "\u001b[1;32m<ipython-input-6-9bc70f6a6fbd>\u001b[0m in \u001b[0;36m<module>\u001b[1;34m()\u001b[0m\n\u001b[0;32m      1\u001b[0m \u001b[1;33m\u001b[0m\u001b[0m\n\u001b[1;32m----> 2\u001b[1;33m \u001b[0mprint\u001b[0m \u001b[1;33m(\u001b[0m\u001b[1;36m1\u001b[0m\u001b[1;33m/\u001b[0m\u001b[1;36m0\u001b[0m\u001b[1;33m)\u001b[0m\u001b[1;33m\u001b[0m\u001b[0m\n\u001b[0m",
      "\u001b[1;31mZeroDivisionError\u001b[0m: division by zero"
     ]
    }
   ],
   "source": [
    "\n",
    "print (1/0)\n",
    "\n"
   ]
  },
  {
   "cell_type": "code",
   "execution_count": 7,
   "metadata": {},
   "outputs": [
    {
     "ename": "IndexError",
     "evalue": "list index out of range",
     "output_type": "error",
     "traceback": [
      "\u001b[1;31m---------------------------------------------------------------------------\u001b[0m",
      "\u001b[1;31mIndexError\u001b[0m                                Traceback (most recent call last)",
      "\u001b[1;32m<ipython-input-7-2ab0d235fb73>\u001b[0m in \u001b[0;36m<module>\u001b[1;34m()\u001b[0m\n\u001b[0;32m      1\u001b[0m \u001b[1;33m\u001b[0m\u001b[0m\n\u001b[0;32m      2\u001b[0m \u001b[0maList\u001b[0m \u001b[1;33m=\u001b[0m \u001b[1;33m[\u001b[0m\u001b[1;33m]\u001b[0m\u001b[1;33m\u001b[0m\u001b[0m\n\u001b[1;32m----> 3\u001b[1;33m \u001b[0mprint\u001b[0m \u001b[1;33m(\u001b[0m\u001b[0maList\u001b[0m\u001b[1;33m[\u001b[0m\u001b[1;36m0\u001b[0m\u001b[1;33m]\u001b[0m\u001b[1;33m)\u001b[0m\u001b[1;33m\u001b[0m\u001b[0m\n\u001b[0m",
      "\u001b[1;31mIndexError\u001b[0m: list index out of range"
     ]
    }
   ],
   "source": [
    "\n",
    "aList = []\n",
    "print (aList[0])\n",
    "\n"
   ]
  },
  {
   "cell_type": "code",
   "execution_count": 8,
   "metadata": {},
   "outputs": [
    {
     "ename": "KeyError",
     "evalue": "'server'",
     "output_type": "error",
     "traceback": [
      "\u001b[1;31m---------------------------------------------------------------------------\u001b[0m",
      "\u001b[1;31mKeyError\u001b[0m                                  Traceback (most recent call last)",
      "\u001b[1;32m<ipython-input-8-258114dcbe0f>\u001b[0m in \u001b[0;36m<module>\u001b[1;34m()\u001b[0m\n\u001b[0;32m      1\u001b[0m \u001b[1;33m\u001b[0m\u001b[0m\n\u001b[0;32m      2\u001b[0m \u001b[0maDict\u001b[0m \u001b[1;33m=\u001b[0m \u001b[1;33m{\u001b[0m\u001b[1;34m'host'\u001b[0m\u001b[1;33m:\u001b[0m \u001b[1;34m'earth'\u001b[0m\u001b[1;33m,\u001b[0m \u001b[1;34m'port'\u001b[0m\u001b[1;33m:\u001b[0m \u001b[1;36m80\u001b[0m\u001b[1;33m}\u001b[0m\u001b[1;33m\u001b[0m\u001b[0m\n\u001b[1;32m----> 3\u001b[1;33m \u001b[0mprint\u001b[0m \u001b[1;33m(\u001b[0m\u001b[0maDict\u001b[0m\u001b[1;33m[\u001b[0m\u001b[1;34m'server'\u001b[0m\u001b[1;33m]\u001b[0m\u001b[1;33m)\u001b[0m\u001b[1;33m\u001b[0m\u001b[0m\n\u001b[0m",
      "\u001b[1;31mKeyError\u001b[0m: 'server'"
     ]
    }
   ],
   "source": [
    "\n",
    "aDict = {'host': 'earth', 'port': 80}\n",
    "print (aDict['server'])\n"
   ]
  },
  {
   "cell_type": "code",
   "execution_count": 9,
   "metadata": {},
   "outputs": [
    {
     "ename": "FileNotFoundError",
     "evalue": "[Errno 2] No such file or directory: 'blah'",
     "output_type": "error",
     "traceback": [
      "\u001b[1;31m---------------------------------------------------------------------------\u001b[0m",
      "\u001b[1;31mFileNotFoundError\u001b[0m                         Traceback (most recent call last)",
      "\u001b[1;32m<ipython-input-9-d90f158a11ee>\u001b[0m in \u001b[0;36m<module>\u001b[1;34m()\u001b[0m\n\u001b[0;32m      1\u001b[0m \u001b[1;33m\u001b[0m\u001b[0m\n\u001b[1;32m----> 2\u001b[1;33m \u001b[0mf\u001b[0m \u001b[1;33m=\u001b[0m \u001b[0mopen\u001b[0m\u001b[1;33m(\u001b[0m\u001b[1;34m\"blah\"\u001b[0m\u001b[1;33m)\u001b[0m\u001b[1;33m\u001b[0m\u001b[0m\n\u001b[0m",
      "\u001b[1;31mFileNotFoundError\u001b[0m: [Errno 2] No such file or directory: 'blah'"
     ]
    }
   ],
   "source": [
    "\n",
    "f = open(\"blah\")\n",
    "\n"
   ]
  },
  {
   "cell_type": "code",
   "execution_count": 10,
   "metadata": {},
   "outputs": [
    {
     "name": "stdout",
     "output_type": "stream",
     "text": [
      "Enter an integer: wew\n",
      "That didn't look like an integer to me.\n"
     ]
    }
   ],
   "source": [
    "\n",
    "try:\n",
    "    x = input(\"Enter an integer: \")\n",
    "    y = int(x)\n",
    "    print (\"Your number was\", y)\n",
    "except (TypeError, ValueError):\n",
    "    print (\"That didn't look like an integer to me.\")\n",
    "    \n",
    "    "
   ]
  },
  {
   "cell_type": "code",
   "execution_count": 11,
   "metadata": {},
   "outputs": [
    {
     "name": "stdout",
     "output_type": "stream",
     "text": [
      "could not open file: [Errno 2] No such file or directory: 'blah'\n",
      "12345.0\n",
      "12345.0\n",
      "1.2345e+69\n",
      "12.34\n",
      "could not convert non-number to float\n"
     ]
    }
   ],
   "source": [
    "\n",
    "try:\n",
    "    f = open('blah', 'r')\n",
    "except IOError as e:\n",
    "    print ('could not open file:', e)\n",
    "    \n",
    "print( float(12345))\n",
    "print( float('12345'))\n",
    "print( float('123.45e67'))\n",
    "\n",
    "def safe_float(obj):\n",
    "     try:\n",
    "         retval = float(obj)\n",
    "     except ValueError:\n",
    "          retval = 'could not convert non-number to float'\n",
    "     return retval\n",
    "\n",
    "print (safe_float('12.34'))\n",
    "print (safe_float('bad input'))\n",
    "#print (safe_float({'a': 'Dict'})) deprecated\n"
   ]
  },
  {
   "cell_type": "code",
   "execution_count": 12,
   "metadata": {},
   "outputs": [
    {
     "name": "stdout",
     "output_type": "stream",
     "text": [
      "I/O error(2): No such file or directory\n"
     ]
    }
   ],
   "source": [
    "\n",
    "\n",
    "import sys\n",
    "\n",
    "try:\n",
    "    f = open('integers.txt')\n",
    "    s = f.readline()\n",
    "    i = int(s.strip())\n",
    "except IOError as e:\n",
    "    errno, strerror = e.args\n",
    "    print(\"I/O error({0}): {1}\".format(errno,strerror))\n",
    "    # e can be printed directly without using .args:\n",
    "    # print(e)\n",
    "except ValueError:\n",
    "    print(\"No valid integer in line.\")\n",
    "except:\n",
    "    print(\"Unexpected error:\", sys.exc_info()[0])\n",
    "    raise"
   ]
  },
  {
   "cell_type": "code",
   "execution_count": 13,
   "metadata": {},
   "outputs": [
    {
     "name": "stdout",
     "output_type": "stream",
     "text": [
      "An I/O error or a ValueError occurred\n"
     ]
    }
   ],
   "source": [
    "\n",
    "\n",
    "try:\n",
    "    f = open('integers.txt')\n",
    "    s = f.readline()\n",
    "    i = int(s.strip())\n",
    "except (IOError, ValueError):\n",
    "    print(\"An I/O error or a ValueError occurred\")\n",
    "except:\n",
    "    print(\"An unexpected error occurred\")\n",
    "    raise\n"
   ]
  },
  {
   "cell_type": "code",
   "execution_count": 14,
   "metadata": {},
   "outputs": [
    {
     "name": "stdout",
     "output_type": "stream",
     "text": [
      "got it :-)  invalid literal for int() with base 10: 'four'\n",
      "Let's get on\n"
     ]
    }
   ],
   "source": [
    "\n",
    "\n",
    "def f():\n",
    "    x = int(\"four\")\n",
    "\n",
    "try:\n",
    "    f()\n",
    "except ValueError as e:\n",
    "    print(\"got it :-) \", e)\n",
    "\n",
    "\n",
    "print(\"Let's get on\")\n"
   ]
  },
  {
   "cell_type": "code",
   "execution_count": 15,
   "metadata": {},
   "outputs": [
    {
     "name": "stdout",
     "output_type": "stream",
     "text": [
      "got it in the function :-)  invalid literal for int() with base 10: 'four'\n",
      "Let's get on\n"
     ]
    }
   ],
   "source": [
    "\n",
    "def f1():\n",
    "    try:\n",
    "        x = int(\"four\")\n",
    "    except ValueError as e:\n",
    "        print(\"got it in the function :-) \", e)\n",
    "\n",
    "try:\n",
    "    f1()\n",
    "except ValueError as e:\n",
    "    print(\"got it :-) \", e)\n",
    "\n",
    "\n",
    "print(\"Let's get on\")\n"
   ]
  },
  {
   "cell_type": "code",
   "execution_count": 16,
   "metadata": {},
   "outputs": [],
   "source": [
    "\n",
    "def f2():\n",
    "    try:\n",
    "        x = int(\"four\")\n",
    "    except ValueError as e:\n",
    "        print(\"got it in the function :-) \", e)\n",
    "        raise"
   ]
  },
  {
   "cell_type": "code",
   "execution_count": 17,
   "metadata": {},
   "outputs": [
    {
     "name": "stdout",
     "output_type": "stream",
     "text": [
      "got it in the function :-)  invalid literal for int() with base 10: 'four'\n",
      "got it :-)  invalid literal for int() with base 10: 'four'\n",
      "Let's get on\n"
     ]
    }
   ],
   "source": [
    "try:\n",
    "    f2()\n",
    "except ValueError as e:\n",
    "    print(\"got it :-) \", e)\n",
    "\n",
    "print(\"Let's get on\")\n"
   ]
  },
  {
   "cell_type": "code",
   "execution_count": 18,
   "metadata": {},
   "outputs": [
    {
     "ename": "MyException",
     "evalue": "An exception doesn't always prove the rule!",
     "output_type": "error",
     "traceback": [
      "\u001b[1;31m---------------------------------------------------------------------------\u001b[0m",
      "\u001b[1;31mMyException\u001b[0m                               Traceback (most recent call last)",
      "\u001b[1;32m<ipython-input-18-ffd98fffd2c7>\u001b[0m in \u001b[0;36m<module>\u001b[1;34m()\u001b[0m\n\u001b[0;32m      6\u001b[0m     \u001b[1;32mpass\u001b[0m\u001b[1;33m\u001b[0m\u001b[0m\n\u001b[0;32m      7\u001b[0m \u001b[1;33m\u001b[0m\u001b[0m\n\u001b[1;32m----> 8\u001b[1;33m \u001b[1;32mraise\u001b[0m \u001b[0mMyException\u001b[0m\u001b[1;33m(\u001b[0m\u001b[1;34m\"An exception doesn't always prove the rule!\"\u001b[0m\u001b[1;33m)\u001b[0m\u001b[1;33m\u001b[0m\u001b[0m\n\u001b[0m",
      "\u001b[1;31mMyException\u001b[0m: An exception doesn't always prove the rule!"
     ]
    }
   ],
   "source": [
    "\n",
    "#custom exception\n",
    "\n",
    "\n",
    "class MyException(Exception):\n",
    "    pass\n",
    "\n",
    "raise MyException(\"An exception doesn't always prove the rule!\")\n",
    "\n"
   ]
  },
  {
   "cell_type": "code",
   "execution_count": 19,
   "metadata": {},
   "outputs": [
    {
     "name": "stdout",
     "output_type": "stream",
     "text": [
      "Your number: 0\n",
      "There may or may not have been an exception.\n"
     ]
    },
    {
     "ename": "ZeroDivisionError",
     "evalue": "float division by zero",
     "output_type": "error",
     "traceback": [
      "\u001b[1;31m---------------------------------------------------------------------------\u001b[0m",
      "\u001b[1;31mZeroDivisionError\u001b[0m                         Traceback (most recent call last)",
      "\u001b[1;32m<ipython-input-19-a57405af8bc6>\u001b[0m in \u001b[0;36m<module>\u001b[1;34m()\u001b[0m\n\u001b[0;32m      3\u001b[0m \u001b[1;32mtry\u001b[0m\u001b[1;33m:\u001b[0m\u001b[1;33m\u001b[0m\u001b[0m\n\u001b[0;32m      4\u001b[0m     \u001b[0mx\u001b[0m \u001b[1;33m=\u001b[0m \u001b[0mfloat\u001b[0m\u001b[1;33m(\u001b[0m\u001b[0minput\u001b[0m\u001b[1;33m(\u001b[0m\u001b[1;34m\"Your number: \"\u001b[0m\u001b[1;33m)\u001b[0m\u001b[1;33m)\u001b[0m\u001b[1;33m\u001b[0m\u001b[0m\n\u001b[1;32m----> 5\u001b[1;33m     \u001b[0minverse\u001b[0m \u001b[1;33m=\u001b[0m \u001b[1;36m1.0\u001b[0m \u001b[1;33m/\u001b[0m \u001b[0mx\u001b[0m\u001b[1;33m\u001b[0m\u001b[0m\n\u001b[0m\u001b[0;32m      6\u001b[0m \u001b[1;32mfinally\u001b[0m\u001b[1;33m:\u001b[0m\u001b[1;33m\u001b[0m\u001b[0m\n\u001b[0;32m      7\u001b[0m     \u001b[0mprint\u001b[0m\u001b[1;33m(\u001b[0m\u001b[1;34m\"There may or may not have been an exception.\"\u001b[0m\u001b[1;33m)\u001b[0m\u001b[1;33m\u001b[0m\u001b[0m\n",
      "\u001b[1;31mZeroDivisionError\u001b[0m: float division by zero"
     ]
    }
   ],
   "source": [
    "\n",
    "\n",
    "try:\n",
    "    x = float(input(\"Your number: \"))\n",
    "    inverse = 1.0 / x\n",
    "finally:\n",
    "    print(\"There may or may not have been an exception.\")\n",
    "print(\"The inverse: \", inverse)\n",
    "\n"
   ]
  },
  {
   "cell_type": "code",
   "execution_count": 20,
   "metadata": {},
   "outputs": [
    {
     "name": "stdout",
     "output_type": "stream",
     "text": [
      "Your number: 2\n",
      "There may or may not have been an exception.\n"
     ]
    }
   ],
   "source": [
    "\n",
    "try:\n",
    "    x = float(input(\"Your number: \"))\n",
    "    inverse = 1.0 / x\n",
    "except ValueError:\n",
    "    print(\"You should have given either an int or a float\")\n",
    "except ZeroDivisionError:\n",
    "    print(\"Infinity\")\n",
    "finally:\n",
    "    print(\"There may or may not have been an exception.\")\n",
    "    \n",
    "    "
   ]
  },
  {
   "cell_type": "code",
   "execution_count": 21,
   "metadata": {},
   "outputs": [
    {
     "ename": "IndentationError",
     "evalue": "unexpected indent (<ipython-input-21-5652ed274a7c>, line 2)",
     "output_type": "error",
     "traceback": [
      "\u001b[1;36m  File \u001b[1;32m\"<ipython-input-21-5652ed274a7c>\"\u001b[1;36m, line \u001b[1;32m2\u001b[0m\n\u001b[1;33m    import sys\u001b[0m\n\u001b[1;37m    ^\u001b[0m\n\u001b[1;31mIndentationError\u001b[0m\u001b[1;31m:\u001b[0m unexpected indent\n"
     ]
    }
   ],
   "source": [
    "\n",
    "    import sys\n",
    "file_name = sys.argv[1]\n",
    "text = []\n",
    "try:\n",
    "    fh = open(file_name, 'r')\n",
    "    text = fh.readlines()\n",
    "    fh.close()\n",
    "except IOError:\n",
    "    print('cannot open', file_name)\n",
    "\n",
    "if text:\n",
    "    print(text[100])\n",
    "    "
   ]
  },
  {
   "cell_type": "code",
   "execution_count": 22,
   "metadata": {},
   "outputs": [
    {
     "name": "stdout",
     "output_type": "stream",
     "text": [
      "cannot open -f\n"
     ]
    }
   ],
   "source": [
    "  import sys\n",
    "file_name = sys.argv[1]\n",
    "text = []\n",
    "try:\n",
    "    fh = open(file_name, 'r')\n",
    "except IOError:\n",
    "    print('cannot open', file_name)\n",
    "else:\n",
    "    text = fh.readlines()\n",
    "    fh.close()\n",
    "\n",
    "if text:\n",
    "    print(text[100])"
   ]
  },
  {
   "cell_type": "code",
   "execution_count": 23,
   "metadata": {},
   "outputs": [
    {
     "ename": "RangeException",
     "evalue": "Expected value in range 0 to 10",
     "output_type": "error",
     "traceback": [
      "\u001b[1;31m---------------------------------------------------------------------------\u001b[0m",
      "\u001b[1;31mRangeException\u001b[0m                            Traceback (most recent call last)",
      "\u001b[1;32m<ipython-input-23-bf2a92967a84>\u001b[0m in \u001b[0;36m<module>\u001b[1;34m()\u001b[0m\n\u001b[0;32m     16\u001b[0m     \u001b[1;32mreturn\u001b[0m \u001b[1;32mTrue\u001b[0m\u001b[1;33m\u001b[0m\u001b[0m\n\u001b[0;32m     17\u001b[0m \u001b[1;33m\u001b[0m\u001b[0m\n\u001b[1;32m---> 18\u001b[1;33m \u001b[0mCheckValue\u001b[0m\u001b[1;33m(\u001b[0m\u001b[1;36m12\u001b[0m\u001b[1;33m)\u001b[0m\u001b[1;33m\u001b[0m\u001b[0m\n\u001b[0m",
      "\u001b[1;32m<ipython-input-23-bf2a92967a84>\u001b[0m in \u001b[0;36mCheckValue\u001b[1;34m(inV)\u001b[0m\n\u001b[0;32m     13\u001b[0m \u001b[1;32mdef\u001b[0m \u001b[0mCheckValue\u001b[0m\u001b[1;33m(\u001b[0m \u001b[0minV\u001b[0m \u001b[1;33m)\u001b[0m \u001b[1;33m:\u001b[0m\u001b[1;33m\u001b[0m\u001b[0m\n\u001b[0;32m     14\u001b[0m     \u001b[1;32mif\u001b[0m \u001b[1;33m(\u001b[0m \u001b[0minV\u001b[0m \u001b[1;33m<\u001b[0m \u001b[1;36m0\u001b[0m \u001b[1;32mor\u001b[0m \u001b[0minV\u001b[0m \u001b[1;33m>\u001b[0m \u001b[1;36m10\u001b[0m \u001b[1;33m)\u001b[0m \u001b[1;33m:\u001b[0m\u001b[1;33m\u001b[0m\u001b[0m\n\u001b[1;32m---> 15\u001b[1;33m         \u001b[1;32mraise\u001b[0m \u001b[0mRangeException\u001b[0m\u001b[1;33m(\u001b[0m\u001b[1;36m0\u001b[0m\u001b[1;33m,\u001b[0m\u001b[1;36m10\u001b[0m\u001b[1;33m)\u001b[0m\u001b[1;33m\u001b[0m\u001b[0m\n\u001b[0m\u001b[0;32m     16\u001b[0m     \u001b[1;32mreturn\u001b[0m \u001b[1;32mTrue\u001b[0m\u001b[1;33m\u001b[0m\u001b[0m\n\u001b[0;32m     17\u001b[0m \u001b[1;33m\u001b[0m\u001b[0m\n",
      "\u001b[1;31mRangeException\u001b[0m: Expected value in range 0 to 10"
     ]
    }
   ],
   "source": [
    "\n",
    "\n",
    "class RangeException(Exception) :\n",
    "    def __init__(self, low, high) :\n",
    "        self.low = low\n",
    "        self.high = high\n",
    "    def __str__(self) :\n",
    "        s = \"Expected value in range \"+str(self.low)\n",
    "        s = s + \" to \"\n",
    "        s = s + str(self.high)\n",
    "        return s\n",
    "\n",
    "def CheckValue( inV ) :\n",
    "    if ( inV < 0 or inV > 10 ) :\n",
    "        raise RangeException(0,10)\n",
    "    return True\n",
    "\n",
    "CheckValue(12)\n"
   ]
  },
  {
   "cell_type": "code",
   "execution_count": 24,
   "metadata": {},
   "outputs": [
    {
     "name": "stdout",
     "output_type": "stream",
     "text": [
      "(<class '__main__.RangeException'>, RangeException(0, 10), <traceback object at 0x0000017C75EC4D48>)\n",
      "You didn't enter a value between: 0, and 10\n"
     ]
    }
   ],
   "source": [
    "import sys\n",
    "\n",
    "try :\n",
    "       CheckValue(12)\n",
    "except Exception:\n",
    "       print (sys.exc_info())\n",
    "\n",
    "try :\n",
    "      CheckValue(12)\n",
    "except RangeException as re:\n",
    "      print (\"You didn't enter a value between: \"+str(re.low)+\", and \"+str(re.high))"
   ]
  },
  {
   "cell_type": "code",
   "execution_count": 25,
   "metadata": {},
   "outputs": [
    {
     "name": "stdout",
     "output_type": "stream",
     "text": [
      "Enter the first number: 22\n",
      "Enter the second number: 11\n",
      "2.0\n"
     ]
    }
   ],
   "source": [
    "\n",
    "try:\n",
    "   x = input('Enter the first number: ')\n",
    "   y = input('Enter the second number: ')\n",
    "   print (int(x)/int(y)) #remove casting and try\n",
    "except ZeroDivisionError:\n",
    "   print (\"The second number can't be zero!\" )\n",
    "except TypeError:\n",
    "   print (\"That wasn't a number, was it?\")"
   ]
  },
  {
   "cell_type": "code",
   "execution_count": 27,
   "metadata": {},
   "outputs": [
    {
     "name": "stdout",
     "output_type": "stream",
     "text": [
      "Caught exception in function3. Reraising....\n",
      "\n",
      "Exception caught in main program.\n",
      "\n",
      "Exception arguments: ()\n",
      "\n",
      "Exception message: \n",
      "\n",
      "Traceback:\n"
     ]
    },
    {
     "name": "stderr",
     "output_type": "stream",
     "text": [
      "Traceback (most recent call last):\n",
      "  File \"<ipython-input-27-2af5af260d6d>\", line 20, in <module>\n",
      "    function1()\n",
      "  File \"<ipython-input-27-2af5af260d6d>\", line 4, in function1\n",
      "    function2()\n",
      "  File \"<ipython-input-27-2af5af260d6d>\", line 7, in function2\n",
      "    function3()\n",
      "  File \"<ipython-input-27-2af5af260d6d>\", line 12, in function3\n",
      "    raise Exception\n",
      "Exception\n"
     ]
    }
   ],
   "source": [
    "import traceback\n",
    "\n",
    "def function1():\n",
    "   function2()\n",
    "\n",
    "def function2():\n",
    "   function3()\n",
    "\n",
    "def function3():\n",
    "   # raise exception, catch exception, reraise exception\n",
    "   try:\n",
    "      raise Exception\n",
    "   except Exception:\n",
    "      print (\"Caught exception in function3. Reraising....\\n\")\n",
    "      raise   # reraises most recent exception\n",
    "\n",
    "# call function1, any Exception it generates will be\n",
    "# caught by the except clause that follows\n",
    "try:\n",
    "   function1()\n",
    "\n",
    "# output exception arguments, string representation of exception,\n",
    "# and the traceback\n",
    "except Exception as exception:\n",
    "   print (\"Exception caught in main program.\")\n",
    "   print (\"\\nException arguments:\", exception.args)\n",
    "   print (\"\\nException message:\", exception)\n",
    "   print (\"\\nTraceback:\")\n",
    "   traceback.print_exc()"
   ]
  },
  {
   "cell_type": "code",
   "execution_count": 28,
   "metadata": {},
   "outputs": [
    {
     "name": "stdout",
     "output_type": "stream",
     "text": [
      "Please, enter a number: 22\n",
      "The sqrt of 22.000000 is 4.690416\n",
      "Everything went just fine.\n"
     ]
    }
   ],
   "source": [
    "\n",
    "import sys, traceback, math\n",
    "\n",
    "try:\n",
    "    n = float(input(\"Please, enter a number: \"))\n",
    "    print (\"The sqrt of %f is %f\" % (n, math.sqrt(n)))\n",
    "\n",
    "except (ValueError, TypeError, OverflowError):\n",
    "    print (\"This is the standard traceback message:\")\n",
    "    print (\"\")\n",
    "    traceback.print_exc()\n",
    "    print (\"This is the customized traceback message:\")\n",
    "    print (\"\")\n",
    "    info = sys.exc_info()\n",
    "    exc_type = info[0]\n",
    "    exc_value = info[1]\n",
    "    exc_traceback = info[2]\n",
    "\n",
    "    trace = traceback.extract_tb(exc_traceback)\n",
    "    print (\"Exception Type:  \", exc_type)\n",
    "    print (\"Error Message:   \", exc_value)\n",
    "    print (\"File name:       \", trace[0][0])\n",
    "    print (\"Error message:   \", trace[0][1])\n",
    "    print (\"Line:            \", trace[0][2])\n",
    "    print (\"Function:        \", trace[0][3])\n",
    "else:\n",
    "    print (\"Everything went just fine.\")"
   ]
  },
  {
   "cell_type": "code",
   "execution_count": 29,
   "metadata": {},
   "outputs": [
    {
     "ename": "KeyError",
     "evalue": "(<class 'ValueError'>, ValueError(), <traceback object at 0x0000017C75ED8C08>)",
     "output_type": "error",
     "traceback": [
      "\u001b[1;31m---------------------------------------------------------------------------\u001b[0m",
      "\u001b[1;31mValueError\u001b[0m                                Traceback (most recent call last)",
      "\u001b[1;32m<ipython-input-29-a9b4a0d15292>\u001b[0m in \u001b[0;36m<module>\u001b[1;34m()\u001b[0m\n\u001b[0;32m      7\u001b[0m \u001b[1;32mtry\u001b[0m \u001b[1;33m:\u001b[0m\u001b[1;33m\u001b[0m\u001b[0m\n\u001b[1;32m----> 8\u001b[1;33m     \u001b[1;32mraise\u001b[0m \u001b[0mValueError\u001b[0m\u001b[1;33m\u001b[0m\u001b[0m\n\u001b[0m\u001b[0;32m      9\u001b[0m \u001b[1;32mexcept\u001b[0m \u001b[1;33m:\u001b[0m\u001b[1;33m\u001b[0m\u001b[0m\n",
      "\u001b[1;31mValueError\u001b[0m: ",
      "\nDuring handling of the above exception, another exception occurred:\n",
      "\u001b[1;31mKeyError\u001b[0m                                  Traceback (most recent call last)",
      "\u001b[1;32m<ipython-input-29-a9b4a0d15292>\u001b[0m in \u001b[0;36m<module>\u001b[1;34m()\u001b[0m\n\u001b[0;32m      9\u001b[0m \u001b[1;32mexcept\u001b[0m \u001b[1;33m:\u001b[0m\u001b[1;33m\u001b[0m\u001b[0m\n\u001b[0;32m     10\u001b[0m \u001b[1;33m\u001b[0m\u001b[0m\n\u001b[1;32m---> 11\u001b[1;33m         \u001b[0mprint\u001b[0m\u001b[1;33m(\u001b[0m \u001b[0mdict\u001b[0m\u001b[1;33m[\u001b[0m\u001b[0msys\u001b[0m\u001b[1;33m.\u001b[0m\u001b[0mexc_info\u001b[0m\u001b[1;33m(\u001b[0m\u001b[1;33m)\u001b[0m\u001b[1;33m]\u001b[0m\u001b[1;33m)\u001b[0m\u001b[1;33m\u001b[0m\u001b[0m\n\u001b[0m\u001b[0;32m     12\u001b[0m \u001b[1;33m\u001b[0m\u001b[0m\n\u001b[0;32m     13\u001b[0m \u001b[1;33m\u001b[0m\u001b[0m\n",
      "\u001b[1;31mKeyError\u001b[0m: (<class 'ValueError'>, ValueError(), <traceback object at 0x0000017C75ED8C08>)"
     ]
    }
   ],
   "source": [
    "\n",
    "import sys\n",
    "\n",
    "dict = {}\n",
    "dict[ValueError] = \"Enter a valid value\"\n",
    "dict[IOError] = \"An error occurred in the IO system\"\n",
    "try :\n",
    "    raise ValueError\n",
    "except :\n",
    "   \n",
    "        print( dict[sys.exc_info()])\n",
    "        \n",
    "        "
   ]
  },
  {
   "cell_type": "code",
   "execution_count": 30,
   "metadata": {},
   "outputs": [
    {
     "name": "stdout",
     "output_type": "stream",
     "text": [
      "Got an exception\n",
      "(<class 'ValueError'>, ValueError(), <traceback object at 0x0000017C75EF8408>)\n"
     ]
    }
   ],
   "source": [
    "       \n",
    "def excFunc() :\n",
    "    raise ValueError\n",
    "\n",
    "try:\n",
    "    excFunc()\n",
    "except:\n",
    "    print( \"Got an exception\")\n",
    "    print (sys.exc_info())\n",
    "    "
   ]
  },
  {
   "cell_type": "code",
   "execution_count": 31,
   "metadata": {},
   "outputs": [
    {
     "name": "stdout",
     "output_type": "stream",
     "text": [
      "Error encountered in exc_thrower: (<class 'ZeroDivisionError'>, ZeroDivisionError('division by zero'), <traceback object at 0x0000017C75EF8288>)\n"
     ]
    },
    {
     "ename": "ZeroDivisionError",
     "evalue": "division by zero",
     "output_type": "error",
     "traceback": [
      "\u001b[1;31m---------------------------------------------------------------------------\u001b[0m",
      "\u001b[1;31mZeroDivisionError\u001b[0m                         Traceback (most recent call last)",
      "\u001b[1;32m<ipython-input-31-bf9a4fd0d88c>\u001b[0m in \u001b[0;36m<module>\u001b[1;34m()\u001b[0m\n\u001b[0;32m     10\u001b[0m       \u001b[1;32mraise\u001b[0m\u001b[1;33m\u001b[0m\u001b[0m\n\u001b[0;32m     11\u001b[0m \u001b[1;33m\u001b[0m\u001b[0m\n\u001b[1;32m---> 12\u001b[1;33m \u001b[0mexc_thrower\u001b[0m\u001b[1;33m(\u001b[0m\u001b[1;36m0\u001b[0m\u001b[1;33m)\u001b[0m\u001b[1;33m\u001b[0m\u001b[0m\n\u001b[0m\u001b[0;32m     13\u001b[0m \u001b[0mexc_thrower\u001b[0m\u001b[1;33m(\u001b[0m\u001b[1;34m\"Hello\"\u001b[0m\u001b[1;33m)\u001b[0m\u001b[1;33m\u001b[0m\u001b[0m\n",
      "\u001b[1;32m<ipython-input-31-bf9a4fd0d88c>\u001b[0m in \u001b[0;36mexc_thrower\u001b[1;34m(x)\u001b[0m\n\u001b[0;32m      5\u001b[0m   \u001b[0mz\u001b[0m \u001b[1;33m=\u001b[0m \u001b[1;36m0\u001b[0m\u001b[1;33m\u001b[0m\u001b[0m\n\u001b[0;32m      6\u001b[0m   \u001b[1;32mtry\u001b[0m \u001b[1;33m:\u001b[0m\u001b[1;33m\u001b[0m\u001b[0m\n\u001b[1;32m----> 7\u001b[1;33m       \u001b[0mz\u001b[0m \u001b[1;33m=\u001b[0m \u001b[1;36m100\u001b[0m \u001b[1;33m/\u001b[0m \u001b[0mx\u001b[0m\u001b[1;33m\u001b[0m\u001b[0m\n\u001b[0m\u001b[0;32m      8\u001b[0m   \u001b[1;32mexcept\u001b[0m \u001b[1;33m:\u001b[0m\u001b[1;33m\u001b[0m\u001b[0m\n\u001b[0;32m      9\u001b[0m       \u001b[0mprint\u001b[0m \u001b[1;33m(\u001b[0m\u001b[1;34m\"Error encountered in exc_thrower: \"\u001b[0m\u001b[1;33m+\u001b[0m\u001b[0mrepr\u001b[0m\u001b[1;33m(\u001b[0m\u001b[0msys\u001b[0m\u001b[1;33m.\u001b[0m\u001b[0mexc_info\u001b[0m\u001b[1;33m(\u001b[0m\u001b[1;33m)\u001b[0m\u001b[1;33m)\u001b[0m\u001b[1;33m)\u001b[0m\u001b[1;33m\u001b[0m\u001b[0m\n",
      "\u001b[1;31mZeroDivisionError\u001b[0m: division by zero"
     ]
    }
   ],
   "source": [
    "  \n",
    "import sys\n",
    "\n",
    "def exc_thrower(x) :\n",
    "    z = 0\n",
    "    try :\n",
    "        z = 100 / x\n",
    "    except :\n",
    "        print (\"Error encountered in exc_thrower: \"+repr(sys.exc_info()))\n",
    "        raise\n",
    "\n",
    "exc_thrower(0)\n",
    "exc_thrower(\"Hello\")\n"
   ]
  },
  {
   "cell_type": "code",
   "execution_count": 32,
   "metadata": {},
   "outputs": [
    {
     "name": "stdout",
     "output_type": "stream",
     "text": [
      "Error encountered in exc_thrower: (<class 'ZeroDivisionError'>, ZeroDivisionError('division by zero'), <traceback object at 0x0000017C75EF8F88>)\n"
     ]
    }
   ],
   "source": [
    "\n",
    "import sys\n",
    "\n",
    "def exc_thrower1(x) :\n",
    "    z = 0\n",
    "    try :\n",
    "        z = 100 / x\n",
    "    except :\n",
    "        print (\"Error encountered in exc_thrower: \"+repr(sys.exc_info()))\n",
    "\n",
    "exc_thrower1(0)"
   ]
  },
  {
   "cell_type": "code",
   "execution_count": 33,
   "metadata": {},
   "outputs": [
    {
     "name": "stdout",
     "output_type": "stream",
     "text": [
      "\n",
      "Please enter a number: 22\n",
      "4.69041575982343\n"
     ]
    }
   ],
   "source": [
    "#User Defined Exception\n",
    "\n",
    "\n",
    "import math\n",
    "\n",
    "class NegativeNumberError( ArithmeticError ):\n",
    "   \"\"\"Attempted improper operation on negative number.\"\"\"\n",
    "   pass\n",
    "\n",
    "def squareRoot( number ):\n",
    "   \"\"\"Computes square root of number. Raises NegativeNumberError\n",
    "   if number is less than 0.\"\"\"\n",
    "\n",
    "   if number < 0:\n",
    "      raise NegativeNumberError(\"Square root of negative number not permitted\")\n",
    "\n",
    "   return math.sqrt( number )\n",
    "\n",
    "while 1:\n",
    "   try:\n",
    "      userValue = float(input( \"\\nPlease enter a number: \" ) )\n",
    "      print (squareRoot( userValue ))\n",
    "   except ValueError:\n",
    "      print (\"The entered value is not a number\")\n",
    "   except NegativeNumberError as exception:\n",
    "      print (exception)\n",
    "   else:\n",
    "      break"
   ]
  },
  {
   "cell_type": "code",
   "execution_count": 34,
   "metadata": {},
   "outputs": [
    {
     "name": "stdout",
     "output_type": "stream",
     "text": [
      "Enter a value: 11\n",
      "We got some valid input!\n",
      "All went well, x =  9.090909090909092\n",
      "This is executed no matter what!\n"
     ]
    }
   ],
   "source": [
    "\n",
    "try:\n",
    "   v = int( input(\"Enter a value: \"))\n",
    "   print (\"We got some valid input!\")\n",
    "   x = 100 / v\n",
    "except (KeyboardInterrupt):\n",
    "   print (\"well, ok, if you don't really want to..\")\n",
    "except ZeroDivisionError:\n",
    "   print (\"You can't divide by ZERO!\")\n",
    "except:\n",
    "    print (\"Some other error happened here\")\n",
    "else:\n",
    "    print (\"All went well, x = \", x)\n",
    "finally:\n",
    "    print (\"This is executed no matter what!\")\n"
   ]
  },
  {
   "cell_type": "code",
   "execution_count": 35,
   "metadata": {},
   "outputs": [
    {
     "name": "stdout",
     "output_type": "stream",
     "text": [
      "Calling doNotRaiseException\n",
      "In doNotRaiseException\n",
      "Finally executed in doNotRaiseException\n",
      "End of doNotRaiseException\n",
      "\n",
      "Calling raiseExceptionDoNotCatch\n",
      "In raiseExceptionDoNotCatch\n",
      "Finally executed in raiseExceptionDoNotCatch\n",
      "Caught exception from raiseExceptionDoNotCatch in main program.\n"
     ]
    }
   ],
   "source": [
    "\n",
    "def doNotRaiseException():\n",
    "   try:\n",
    "      print (\"In doNotRaiseException\")\n",
    "   finally:\n",
    "      print (\"Finally executed in doNotRaiseException\")\n",
    "\n",
    "   print (\"End of doNotRaiseException\")\n",
    "\n",
    "def raiseExceptionDoNotCatch():\n",
    "   try:\n",
    "      print (\"In raiseExceptionDoNotCatch\")\n",
    "      raise Exception\n",
    "   finally:\n",
    "      print (\"Finally executed in raiseExceptionDoNotCatch\")\n",
    "\n",
    "   print (\"Will never reach this point\")\n",
    "\n",
    "print (\"Calling doNotRaiseException\")\n",
    "doNotRaiseException()\n",
    "\n",
    "print (\"\\nCalling raiseExceptionDoNotCatch\")\n",
    "\n",
    "try:\n",
    "   raiseExceptionDoNotCatch()\n",
    "except Exception:\n",
    "   print (\"Caught exception from raiseExceptionDoNotCatch in main program.\")"
   ]
  },
  {
   "cell_type": "code",
   "execution_count": null,
   "metadata": {},
   "outputs": [],
   "source": []
  }
 ],
 "metadata": {
  "kernelspec": {
   "display_name": "Python 3",
   "language": "python",
   "name": "python3"
  },
  "language_info": {
   "codemirror_mode": {
    "name": "ipython",
    "version": 3
   },
   "file_extension": ".py",
   "mimetype": "text/x-python",
   "name": "python",
   "nbconvert_exporter": "python",
   "pygments_lexer": "ipython3",
   "version": "3.8.8"
  }
 },
 "nbformat": 4,
 "nbformat_minor": 4
}
