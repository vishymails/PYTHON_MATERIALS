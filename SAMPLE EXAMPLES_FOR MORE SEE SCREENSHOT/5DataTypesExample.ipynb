{
 "cells": [
  {
   "cell_type": "code",
   "execution_count": 2,
   "metadata": {},
   "outputs": [
    {
     "data": {
      "text/plain": [
       "'\\nint      (signed integers)\\nlong     (long integers)\\nbool     (Boolean values)\\nfloat    (floating point real numbers)\\ncomplex  (complex numbers)\\n\\nHere are some examples:\\nint      0101     84   -237     0x80 017 -680 -0X92\\nlong     29979062458L  -84140l  0xDECADEDEADBEEFBADFEEDDEAL\\nbool     True          False\\nfloat    3.14159       4.2E-10      -90. 6.022e23          -1.609E-19\\ncomplex  6.23+1.5j     -1.23-875J   0+1j 9.80665-8.31441J  -.0224+0j\\n\\n'"
      ]
     },
     "execution_count": 2,
     "metadata": {},
     "output_type": "execute_result"
    }
   ],
   "source": [
    "'''\n",
    "int      (signed integers)\n",
    "long     (long integers)\n",
    "bool     (Boolean values)\n",
    "float    (floating point real numbers)\n",
    "complex  (complex numbers)\n",
    "\n",
    "Here are some examples:\n",
    "int      0101     84   -237     0x80 017 -680 -0X92\n",
    "long     29979062458L  -84140l  0xDECADEDEADBEEFBADFEEDDEAL\n",
    "bool     True          False\n",
    "float    3.14159       4.2E-10      -90. 6.022e23          -1.609E-19\n",
    "complex  6.23+1.5j     -1.23-875J   0+1j 9.80665-8.31441J  -.0224+0j\n",
    "\n",
    "'''"
   ]
  },
  {
   "cell_type": "code",
   "execution_count": 3,
   "metadata": {},
   "outputs": [
    {
     "name": "stdout",
     "output_type": "stream",
     "text": [
      "True\n",
      "False\n",
      "True\n",
      "True\n"
     ]
    }
   ],
   "source": [
    "\n",
    "print (True) \n",
    "print (False )\n",
    "print (True == 1) \n",
    "print (False == 0)"
   ]
  },
  {
   "cell_type": "code",
   "execution_count": 4,
   "metadata": {},
   "outputs": [
    {
     "data": {
      "text/plain": [
       "'\\n0 is false; all other numbers are true.\\n\\nAn empty string (\"\") is false, all other strings are true.\\n\\nAn empty list ([]) is false; all other lists are true.\\n\\nAn empty tuple (()) is false; all other tuples are true.\\n\\nAn empty dictionary ({}) is false; all other dictionaries are true.\\n\\n\\n\\nNone\\nFalse (Boolean)\\n#Any numeric zero:\\n0 (integer)\\n0.0 (float)\\n0L (long integer)\\n0.0+0.0j (complex)\\n\"\" (empty string)\\n[] (empty list)\\n() (empty tuple)\\n{} (empty dictionary)\\n\\n'"
      ]
     },
     "execution_count": 4,
     "metadata": {},
     "output_type": "execute_result"
    }
   ],
   "source": [
    "\n",
    "'''\n",
    "0 is false; all other numbers are true.\n",
    "\n",
    "An empty string (\"\") is false, all other strings are true.\n",
    "\n",
    "An empty list ([]) is false; all other lists are true.\n",
    "\n",
    "An empty tuple (()) is false; all other tuples are true.\n",
    "\n",
    "An empty dictionary ({}) is false; all other dictionaries are true.\n",
    "\n",
    "\n",
    "\n",
    "None\n",
    "False (Boolean)\n",
    "#Any numeric zero:\n",
    "0 (integer)\n",
    "0.0 (float)\n",
    "0L (long integer)\n",
    "0.0+0.0j (complex)\n",
    "\"\" (empty string)\n",
    "[] (empty list)\n",
    "() (empty tuple)\n",
    "{} (empty dictionary)\n",
    "\n",
    "'''\n"
   ]
  },
  {
   "cell_type": "code",
   "execution_count": 5,
   "metadata": {},
   "outputs": [
    {
     "name": "stdout",
     "output_type": "stream",
     "text": [
      "True\n",
      "101\n",
      "True\n",
      "1\n"
     ]
    }
   ],
   "source": [
    "foo = 42\n",
    "bar = foo < 100\n",
    "print (bar)\n",
    "print (bar + 100)\n",
    "print ('%s' % bar)\n",
    "print ('%d' % bar)"
   ]
  },
  {
   "cell_type": "code",
   "execution_count": 6,
   "metadata": {},
   "outputs": [
    {
     "name": "stdout",
     "output_type": "stream",
     "text": [
      "+4\n",
      "-4\n",
      "we are at 100%\n",
      "Your host is: earth\n",
      "Host: mars\tPort: 80\n",
      "dec: 123/oct: 0o173/hex: 0X7B\n",
      "MM/DD/YY = 02/15/67\n",
      "http://xxx.yyy.zzz/Web/page.html\n"
     ]
    }
   ],
   "source": [
    "\n",
    "print (\"%+d\" % 4)\n",
    "print (\"%+d\" % -4)\n",
    "print (\"we are at %d%%\" % 100)\n",
    "print ('Your host is: %s' % 'earth')\n",
    "print ('Host: %s\\tPort: %d' % ('mars', 80))\n",
    "num = 123\n",
    "print ('dec: %d/oct: %#o/hex: %#X' % (num, num, num))\n",
    "print (\"MM/DD/YY = %02d/%02d/%d\" % (2, 15, 67))\n",
    "w, p = 'Web', 'page'\n",
    "print ('http://xxx.yyy.zzz/%s/%s.html' % (w, p))\n",
    "\n"
   ]
  },
  {
   "cell_type": "code",
   "execution_count": 7,
   "metadata": {},
   "outputs": [
    {
     "data": {
      "text/plain": [
       "'\\nTo indicate a hexadecimal literal, use 0x followed by a sequence of hexadecimal digits (0 to 9 and A to F, in either upper- or lowercase). \\n\\n1, 23, 3493                  # Decimal integers\\n01, 027, 06645               # Octal integers\\n0x1, 0x17, 0xDA5             # Hexadecimal integers\\n\\n'"
      ]
     },
     "execution_count": 7,
     "metadata": {},
     "output_type": "execute_result"
    }
   ],
   "source": [
    "\n",
    "'''\n",
    "To indicate a hexadecimal literal, use 0x followed by a sequence of hexadecimal digits (0 to 9 and A to F, in either upper- or lowercase). \n",
    "\n",
    "1, 23, 3493                  # Decimal integers\n",
    "01, 027, 06645               # Octal integers\n",
    "0x1, 0x17, 0xDA5             # Hexadecimal integers\n",
    "\n",
    "'''\n"
   ]
  },
  {
   "cell_type": "code",
   "execution_count": 8,
   "metadata": {},
   "outputs": [
    {
     "name": "stdout",
     "output_type": "stream",
     "text": [
      "1\n",
      "Sum is 3\n"
     ]
    }
   ],
   "source": [
    "# Math operator\n",
    "print (-2 * 4 + 3 ** 2)\n",
    "\n",
    "\n",
    "\n",
    "integer1 = 1 \n",
    "integer2 = 2\n",
    "\n",
    "sum = integer1 + integer2    # assignment of sum\n",
    "\n",
    "print (\"Sum is\", sum)          # print sum\n"
   ]
  },
  {
   "cell_type": "code",
   "execution_count": 9,
   "metadata": {},
   "outputs": [
    {
     "name": "stdout",
     "output_type": "stream",
     "text": [
      "Please enter first integer: 23\n",
      "Please enter second integer: 34\n",
      "23 is not equal to 34\n",
      "23 is less than 34\n",
      "23 is less than or equal to 34\n"
     ]
    }
   ],
   "source": [
    "import sys\n",
    "\n",
    "# read first string and convert to integer\n",
    "number1 = input( \"Please enter first integer: \" )\n",
    "number1 = int( number1 )\n",
    "\n",
    "# read second string and convert to integer\n",
    "number2 = input( \"Please enter second integer: \" )\n",
    "number2 = int( number2 )\n",
    "\n",
    "if number1 == number2:\n",
    "   print (\"%d is equal to %d\" % ( number1, number2 ))\n",
    "\n",
    "if number1 != number2:\n",
    "   print (\"%d is not equal to %d\" % ( number1, number2 ))\n",
    "\n",
    "if number1 < number2:\n",
    "   print (\"%d is less than %d\" % ( number1, number2 ))\n",
    "\n",
    "if number1 > number2:\n",
    "   print (\"%d is greater than %d\" % ( number1, number2 ))\n",
    "\n",
    "if number1 <= number2:\n",
    "   print (\"%d is less than or equal to %d\" % ( number1, number2 ))\n",
    "\n",
    "if number1 >= number2:\n",
    "   print (\"%d is greater than or equal to %d\" % ( number1, number2 ))\n"
   ]
  },
  {
   "cell_type": "code",
   "execution_count": 11,
   "metadata": {},
   "outputs": [
    {
     "name": "stdout",
     "output_type": "stream",
     "text": [
      "1.1\n",
      "0.1\n",
      "1.1\n",
      "0.00\n",
      "0.1428571428571428571428571429\n",
      "0.1429\n",
      "4.141\n"
     ]
    }
   ],
   "source": [
    "\n",
    "import decimal \n",
    "\n",
    "print (decimal.Decimal('1.1'))\n",
    "\n",
    "\n",
    "dec = decimal.Decimal('.1')\n",
    "print (dec)\n",
    "dec + decimal.Decimal('1.0')\n",
    "print (dec + decimal.Decimal('1.0'))\n",
    "\n",
    "\n",
    "\n",
    "print (decimal.Decimal('0.1') + decimal.Decimal('0.10') + decimal.Decimal('0.10') - decimal.Decimal('0.30'))\n",
    "\n",
    "print (decimal.Decimal(1) / decimal.Decimal(7))\n",
    "\n",
    "\n",
    "\n",
    "\n",
    "decimal.getcontext(  ).prec = 4\n",
    "print (decimal.Decimal(1) / decimal.Decimal(7))\n",
    "\n",
    "\n",
    "d = decimal.Decimal('3.141') \n",
    "print (d + 1)\n"
   ]
  },
  {
   "cell_type": "code",
   "execution_count": 12,
   "metadata": {},
   "outputs": [
    {
     "name": "stdout",
     "output_type": "stream",
     "text": [
      "int(0.2)\t+0.0\n",
      "floor(0.2)\t+0.0\n",
      "round(0.2)\t+0.0\n",
      "--------------------\n",
      "int(0.7)\t+0.0\n",
      "floor(0.7)\t+0.0\n",
      "round(0.7)\t+1.0\n",
      "--------------------\n",
      "int(1.2)\t+1.0\n",
      "floor(1.2)\t+1.0\n",
      "round(1.2)\t+1.0\n",
      "--------------------\n",
      "int(1.7)\t+1.0\n",
      "floor(1.7)\t+1.0\n",
      "round(1.7)\t+2.0\n",
      "--------------------\n",
      "int(-0.2)\t+0.0\n",
      "floor(-0.2)\t-1.0\n",
      "round(-0.2)\t+0.0\n",
      "--------------------\n",
      "int(-0.7)\t+0.0\n",
      "floor(-0.7)\t-1.0\n",
      "round(-0.7)\t-1.0\n",
      "--------------------\n",
      "int(-1.2)\t-1.0\n",
      "floor(-1.2)\t-2.0\n",
      "round(-1.2)\t-1.0\n",
      "--------------------\n",
      "int(-1.7)\t-1.0\n",
      "floor(-1.7)\t-2.0\n",
      "round(-1.7)\t-2.0\n",
      "--------------------\n",
      "Pi with three decimals: 3.142\n",
      "Today's stock price: 50.462000 5\n",
      "Today's stock price: 50.46\n",
      "Change since yesterday: +1.50\n"
     ]
    }
   ],
   "source": [
    "import math\n",
    "\n",
    "\n",
    "for eachNum in (.2, .7, 1.2, 1.7, -.2, -.7, -1.2, -1.7):\n",
    "    print (\"int(%.1f)\\t%+.1f\" % (eachNum, float(int(eachNum))))\n",
    "    print (\"floor(%.1f)\\t%+.1f\" % (eachNum, math.floor(eachNum)))\n",
    "    print (\"round(%.1f)\\t%+.1f\" % (eachNum, round(eachNum)))\n",
    "    print ('-' * 20)\n",
    "\n",
    "\n",
    "\n",
    "format = \"Pi with three decimals: %.3f\" \n",
    "from math import pi \n",
    "print (format % pi)\n",
    "\n",
    "\n",
    "print (\"Today's stock price: %f\" % 50.462, 5 )\n",
    "print( \"Today's stock price: %.2f\" % 50.4625  )   \n",
    "print( \"Change since yesterday: %+.2f\" % 1.5)\n"
   ]
  },
  {
   "cell_type": "code",
   "execution_count": 13,
   "metadata": {},
   "outputs": [
    {
     "name": "stdout",
     "output_type": "stream",
     "text": [
      "1234.567890\n",
      "1234.57\n",
      "1.234568E+03\n",
      "1.234568e+03\n",
      "1234.57\n",
      "1234.57\n"
     ]
    }
   ],
   "source": [
    "\n",
    "print ('%f' % 1234.567890)\n",
    "print ('%.2f' % 1234.567890)\n",
    "print ('%E' % 1234.567890)\n",
    "print ('%e' % 1234.567890)\n",
    "print ('%g' % 1234.567890)\n",
    "print ('%G' % 1234.567890)\n"
   ]
  },
  {
   "cell_type": "code",
   "execution_count": 14,
   "metadata": {},
   "outputs": [
    {
     "name": "stdout",
     "output_type": "stream",
     "text": [
      "0.5\n",
      "0.5\n",
      "0.5\n",
      "0.5\n"
     ]
    }
   ],
   "source": [
    "\n",
    "print (1.0 / 2.0 )\n",
    "print (1/2.0 )\n",
    "print (1.0/2 )\n",
    "print (1/2.)\n"
   ]
  },
  {
   "cell_type": "code",
   "execution_count": 15,
   "metadata": {},
   "outputs": [
    {
     "name": "stdout",
     "output_type": "stream",
     "text": [
      "Enter a number: 23\n",
      "\n",
      "Enter a number: 34\n",
      "\n",
      "Enter a number: 45\n",
      "You entered the number 45.0\n"
     ]
    }
   ],
   "source": [
    "\n",
    "try:\n",
    "    num = float(input(\"Enter a number: \"))\n",
    "except:\n",
    "    print (\"Something went wrong!\")\n",
    "\n",
    "try:\n",
    "    num = float(input(\"\\nEnter a number: \"))\n",
    "except(ValueError):\n",
    "    print (\"That was not a number!\")\n",
    "\n",
    "try:\n",
    "    num = float(input(\"\\nEnter a number: \"))\n",
    "except(ValueError):\n",
    "    print (\"That was not a number!\")\n",
    "else:\n",
    "    print (\"You entered the number\", num)\n",
    "    "
   ]
  },
  {
   "cell_type": "code",
   "execution_count": 16,
   "metadata": {},
   "outputs": [
    {
     "name": "stdout",
     "output_type": "stream",
     "text": [
      "6c\n",
      "6C\n",
      "0X6C\n",
      "0x6c\n",
      "175\n",
      "2 2.0 -3.0 -3\n"
     ]
    }
   ],
   "source": [
    "\n",
    "    \n",
    "#hexa \n",
    "\n",
    "\n",
    "\n",
    "print ( \"%x\" % 108)\n",
    "print (\"%X\" % 108)\n",
    "print (\"%#X\" % 108)\n",
    "print (\"%#x\" % 108)\n",
    "\n",
    "\n",
    "print (0xAF)\n",
    "\n",
    "\n",
    "\n",
    "print ( (5 // 2), (5 // 2.0), (5 // -2.0), (5 // -2))\n",
    "\n"
   ]
  },
  {
   "cell_type": "code",
   "execution_count": 18,
   "metadata": {},
   "outputs": [
    {
     "name": "stdout",
     "output_type": "stream",
     "text": [
      "1 16 255\n"
     ]
    }
   ],
   "source": [
    "#none\n",
    "\n",
    "\n",
    "L1 = ['spam', 'spam', 'spam', 'A', None, 'spam', 'spam']\n",
    "L2 = []\n",
    "for i in L1:\n",
    "    if i is not None:\n",
    "        L2.append(i)\n",
    "        \n",
    "def f(a, mylist=None):\n",
    "    if mylist is None:\n",
    "        mylist = []\n",
    "    mylist.append(a)\n",
    "    return mylist\n",
    "\n",
    "\n",
    "\n",
    "#print (01, 010, 0100)                # Octal literals\n",
    "print (0x01, 0x10, 0xFF)             # Hex literals\n",
    "\n",
    "        "
   ]
  },
  {
   "cell_type": "code",
   "execution_count": null,
   "metadata": {},
   "outputs": [],
   "source": []
  }
 ],
 "metadata": {
  "kernelspec": {
   "display_name": "Python 3",
   "language": "python",
   "name": "python3"
  },
  "language_info": {
   "codemirror_mode": {
    "name": "ipython",
    "version": 3
   },
   "file_extension": ".py",
   "mimetype": "text/x-python",
   "name": "python",
   "nbconvert_exporter": "python",
   "pygments_lexer": "ipython3",
   "version": "3.7.2"
  }
 },
 "nbformat": 4,
 "nbformat_minor": 2
}
