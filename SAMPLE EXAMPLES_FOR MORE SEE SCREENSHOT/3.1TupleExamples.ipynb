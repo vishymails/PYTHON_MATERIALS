{
 "cells": [
  {
   "cell_type": "code",
   "execution_count": 1,
   "metadata": {},
   "outputs": [
    {
     "name": "stdout",
     "output_type": "stream",
     "text": [
      "(1, 2, 3)\n"
     ]
    }
   ],
   "source": [
    "'''\n",
    "Created on Mar 21, 2018\n",
    "\n",
    "@author: BVR\n",
    "'''\n",
    "\n",
    "\n",
    "\n",
    "# Tuple can be used as keys in mappings-lists can't be.\n",
    "# Tuple are returned by some built-in functions and methods.\n",
    "# The tuple syntax is simple-if you separate some values with commas, you automatically have a tuple:\n",
    "\n",
    "x = 1, 2, 3\n",
    "print (x)"
   ]
  },
  {
   "cell_type": "code",
   "execution_count": 2,
   "metadata": {},
   "outputs": [
    {
     "name": "stdout",
     "output_type": "stream",
     "text": [
      "(1, 2, 3)\n",
      "()\n",
      "(42,)\n"
     ]
    }
   ],
   "source": [
    "# Tuples may also be enclosed in parentheses:\n",
    "\n",
    "x = (1, 2, 3)\n",
    "print (x)\n",
    "\n",
    "# The empty tuple is written as two parentheses containing nothing:\n",
    "\n",
    "x = ()\n",
    "print (x)\n",
    "\n",
    "\n",
    "\n",
    "x =  42,\n",
    "print (x)\n",
    "\n"
   ]
  },
  {
   "cell_type": "code",
   "execution_count": 3,
   "metadata": {},
   "outputs": [
    {
     "name": "stdout",
     "output_type": "stream",
     "text": [
      "['abc']\n",
      "<class 'list'>\n",
      "xyz\n",
      "<class 'str'>\n",
      "('xyz',)\n",
      "126\n",
      "(42, 42, 42)\n"
     ]
    }
   ],
   "source": [
    "print (['abc'])\n",
    "print (type(['abc']))   # a list\n",
    "print (('xyz'))\n",
    "print (type(('xyz')))   # a string, not a tuple\n",
    "print (('xyz',))\n",
    "\n",
    "\n",
    "\n",
    "print (3*(40+2))\n",
    "\n",
    "print (3*(40+2,))\n",
    "\n"
   ]
  },
  {
   "cell_type": "code",
   "execution_count": 4,
   "metadata": {},
   "outputs": [
    {
     "name": "stdout",
     "output_type": "stream",
     "text": [
      "1FG is not a hex string.\n",
      "Ten is not a hex string.\n"
     ]
    }
   ],
   "source": [
    "\n",
    "hexStringChars = ('A', 'B','C', 'D', 'E', 'F')\n",
    "hexStringNums = ('1', '2', '3', '4', '5', '6','7', '8', '9','0')\n",
    "hexStrings = [\"1FC\", \"1FG\", \"222\", \"Ten\"]\n",
    "\n",
    "for hexString in hexStrings:\n",
    "    for x in hexString:\n",
    "        if ((not x in hexStringChars) and (not x in hexStringNums)):\n",
    "            print (hexString+ \" is not a hex string.\")\n",
    "            break\n",
    "\n",
    "tupleList = list(hexStringChars)\n",
    "listTuple = tuple(hexStrings)\n"
   ]
  },
  {
   "cell_type": "code",
   "execution_count": 5,
   "metadata": {},
   "outputs": [
    {
     "name": "stdout",
     "output_type": "stream",
     "text": [
      "(['xyz', 123], 23, -103.4)\n",
      "3\n",
      "[['xyz', 123], 23, -103.4]\n"
     ]
    }
   ],
   "source": [
    "\n",
    "t = (['xyz', 123], 23, -103.4)\n",
    "print (str(t))\n",
    "print (len(t))\n",
    "\n",
    "#print (cmp(t, (['xyz', 123], 23, -103.4, 'free', 'easy')))\n",
    "print (list(t))\n",
    "\n"
   ]
  },
  {
   "cell_type": "code",
   "execution_count": 6,
   "metadata": {},
   "outputs": [
    {
     "name": "stdout",
     "output_type": "stream",
     "text": [
      "a\n",
      "b\n",
      "e\n"
     ]
    }
   ],
   "source": [
    "\n",
    "v = ('a', 'b', 'e')\n",
    "(x, y, z) = v\n",
    "print (x)\n",
    "print (y)\n",
    "print (z)\n",
    "\n"
   ]
  },
  {
   "cell_type": "code",
   "execution_count": 7,
   "metadata": {},
   "outputs": [
    {
     "name": "stdout",
     "output_type": "stream",
     "text": [
      "(123, 'abc', 4.56, ['inner', 'tuple'], (7-9j))\n",
      "(None, 'something to see here')\n",
      "(None,)\n",
      "('b', 'a', 'r')\n"
     ]
    }
   ],
   "source": [
    "\n",
    "aTuple = (123, 'abc', 4.56, ['inner', 'tuple'], 7-9j)\n",
    "\n",
    "anotherTuple = (None, 'something to see here')\n",
    "\n",
    "print (aTuple)\n",
    "\n",
    "print (anotherTuple)\n",
    "\n",
    "emptiestPossibleTuple = (None,)\n",
    "\n",
    "print (emptiestPossibleTuple)\n",
    "\n",
    "print (tuple('bar'))\n",
    "\n"
   ]
  },
  {
   "cell_type": "code",
   "execution_count": 8,
   "metadata": {},
   "outputs": [
    {
     "name": "stdout",
     "output_type": "stream",
     "text": [
      "(123, 'abc', (7-9j))\n",
      "(12, 34.56, 'abc', 'xyz')\n"
     ]
    }
   ],
   "source": [
    "\n",
    "Tuple = (123, 'abc', 4.56, ['inner', 'tuple'], 7-9j)\n",
    "\n",
    "aTuple = aTuple[0], aTuple[1], aTuple[-1]\n",
    "\n",
    "print (aTuple)\n",
    "\n",
    "tup1 = (12, 34.56)\n",
    "\n",
    "tup2 = ('abc', 'xyz')\n",
    "\n",
    "tup3 = tup1 + tup2\n",
    "\n",
    "print (tup3)"
   ]
  },
  {
   "cell_type": "code",
   "execution_count": 9,
   "metadata": {},
   "outputs": [
    {
     "name": "stdout",
     "output_type": "stream",
     "text": [
      "(['xyz', 123], 23, -103.4)\n",
      "(['xyz', 123], 23, -103.4, ['xyz', 123], 23, -103.4)\n",
      "(['xyz', 123], 23, -103.4, 'free', 'easy')\n"
     ]
    }
   ],
   "source": [
    "\n",
    "t = (['xyz', 123], 23, -103.4)\n",
    "print (t)\n",
    "print (t * 2)\n",
    "t = t + ('free', 'easy')\n",
    "print (t)\n",
    "\n"
   ]
  },
  {
   "cell_type": "code",
   "execution_count": 10,
   "metadata": {},
   "outputs": [
    {
     "name": "stdout",
     "output_type": "stream",
     "text": [
      "first second\n",
      "('third', 'fourth')\n",
      "('third', 'fourth', 'fifth', 'sixth')\n"
     ]
    }
   ],
   "source": [
    "\n",
    "s = 'first'\n",
    "s = s + ' second'\n",
    "print (s)\n",
    "t = ('third', 'fourth')\n",
    "print (t)\n",
    "t = t + ('fifth', 'sixth')\n",
    "print (t)\n"
   ]
  },
  {
   "cell_type": "code",
   "execution_count": 11,
   "metadata": {},
   "outputs": [
    {
     "name": "stdout",
     "output_type": "stream",
     "text": [
      "(['xyz', 123], 23, -103.4)\n",
      "123\n",
      "(['xyz', ['abc', 'def']], 23, -103.4)\n"
     ]
    }
   ],
   "source": [
    "\n",
    "t = (['xyz', 123], 23, -103.4)\n",
    "print (t)\n",
    "print (t[0][1])\n",
    "t[0][1] = ['abc', 'def']\n",
    "print (t)\n"
   ]
  },
  {
   "cell_type": "code",
   "execution_count": 12,
   "metadata": {},
   "outputs": [
    {
     "name": "stdout",
     "output_type": "stream",
     "text": [
      "The value of currentTime is: (1, 2, 3)\n",
      "The number of seconds since midnight is 3723\n"
     ]
    }
   ],
   "source": [
    "\n",
    "hour = 1\n",
    "minute = 2\n",
    "second = 3\n",
    "\n",
    "currentTime = hour, minute, second   # create tuple\n",
    "\n",
    "print (\"The value of currentTime is:\", currentTime)\n",
    "\n",
    "print (\"The number of seconds since midnight is\", \\\n",
    "   ( currentTime[ 0 ] * 3600 + currentTime[ 1 ] * 60 + currentTime[ 2 ] ))\n",
    "   \n",
    "   "
   ]
  },
  {
   "cell_type": "code",
   "execution_count": 13,
   "metadata": {},
   "outputs": [
    {
     "name": "stdout",
     "output_type": "stream",
     "text": [
      "Unpacking string...\n",
      "String values: a b c\n",
      "\n",
      "Unpacking list...\n",
      "List values: 1 2 3\n",
      "\n",
      "Unpacking tuple...\n",
      "Tuple values: a A 1\n"
     ]
    }
   ],
   "source": [
    "\n",
    "# create sequences\n",
    "aString = \"abc\"\n",
    "aList = [ 1, 2, 3 ]\n",
    "aTuple = \"a\", \"A\", 1\n",
    "\n",
    "\n",
    "\n",
    "# unpack sequences to variables\n",
    "print( \"Unpacking string...\")\n",
    "first, second, third = aString\n",
    "print (\"String values:\", first, second, third)\n",
    "\n",
    "print (\"\\nUnpacking list...\")\n",
    "first, second, third = aList\n",
    "print (\"List values:\", first, second, third)\n",
    "\n",
    "print (\"\\nUnpacking tuple...\")\n",
    "first, second, third = aTuple\n",
    "print (\"Tuple values:\", first, second, third)\n"
   ]
  },
  {
   "cell_type": "code",
   "execution_count": 14,
   "metadata": {},
   "outputs": [
    {
     "name": "stdout",
     "output_type": "stream",
     "text": [
      "\n",
      "Before swapping: x = 3, y = 4\n",
      "After swapping: x = 4, y = 3\n",
      "False\n",
      "True\n",
      "False\n",
      "True\n"
     ]
    }
   ],
   "source": [
    "# swapping two values\n",
    "x = 3\n",
    "y = 4\n",
    "\n",
    "print (\"\\nBefore swapping: x = %d, y = %d\" % ( x, y ))\n",
    "x, y = y, x     # swap variables\n",
    "print (\"After swapping: x = %d, y = %d\" % ( x, y ))\n",
    "\n",
    "\n",
    "\n",
    "print( (4, 2) < (3, 5))\n",
    "print ((2, 4) < (3, -1))\n",
    "print ((2, 4) == (3, -1))\n",
    "print ((2, 4) == (2, 4))\n"
   ]
  },
  {
   "cell_type": "code",
   "execution_count": 15,
   "metadata": {},
   "outputs": [
    {
     "name": "stdout",
     "output_type": "stream",
     "text": [
      "1FG is not a hex string.\n",
      "Ten is not a hex string.\n"
     ]
    }
   ],
   "source": [
    "\n",
    "\n",
    "hexStringChars = ('A', 'B','C', 'D', 'E', 'F')\n",
    "hexStringNums = ('1', '2', '3', '4', '5', '6','7', '8', '9', '0')\n",
    "\n",
    "hexStrings = [\"1FC\", \"1FG\", \"222\", \"Ten\"]\n",
    "\n",
    "for hexString in hexStrings:\n",
    "    for x in hexString:\n",
    "        if ((not x in hexStringChars) and (not x in hexStringNums)):\n",
    "            print (hexString + \" is not a hex string.\")\n",
    "            break\n"
   ]
  },
  {
   "cell_type": "code",
   "execution_count": 16,
   "metadata": {},
   "outputs": [
    {
     "name": "stdout",
     "output_type": "stream",
     "text": [
      "['A', 'B', 'C', 'D', 'E', 'F']\n",
      "(1, 2, 3)\n",
      "('a', 'b', 'c')\n",
      "(1, 2, 3)\n"
     ]
    }
   ],
   "source": [
    "\n",
    "tupleList = list(hexStringChars)\n",
    "print (tupleList)\n",
    "\n",
    "\n",
    "\n",
    "print (tuple([1, 2, 3]))\n",
    "print (tuple('abc'))\n",
    "print (tuple((1, 2, 3)))\n",
    "\n"
   ]
  },
  {
   "cell_type": "code",
   "execution_count": 17,
   "metadata": {},
   "outputs": [
    {
     "name": "stdout",
     "output_type": "stream",
     "text": [
      "(1, 2, 3)\n",
      "['tao', 93, 99, 'time'] ('tao', 93, 99, 'time')\n",
      "False\n"
     ]
    }
   ],
   "source": [
    "\n",
    "listTuple = tuple([1,2,3])\n",
    "print (listTuple)\n",
    "\n",
    "\n",
    "\n",
    "aList = ['tao', 93, 99, 'time']\n",
    "aTuple = tuple(aList)\n",
    "print (aList, aTuple)\n",
    "aList == aTuple\n",
    "anotherList = list(aTuple)\n",
    "aList == anotherList\n",
    "print (aList is anotherList)\n"
   ]
  },
  {
   "cell_type": "code",
   "execution_count": 18,
   "metadata": {},
   "outputs": [
    {
     "name": "stdout",
     "output_type": "stream",
     "text": [
      "('abc', 4.56, ['inner', 'tuple'])\n",
      "(123, 'abc', 4.56)\n",
      "tuple\n"
     ]
    }
   ],
   "source": [
    "\n",
    "aTuple = (123, 'abc', 4.56, ['inner', 'tuple'], 7-9j)\n",
    "\n",
    "print (aTuple[1:4])\n",
    "\n",
    "print (aTuple[:3])\n",
    "print (aTuple[3][1])\n"
   ]
  },
  {
   "cell_type": "code",
   "execution_count": 19,
   "metadata": {},
   "outputs": [
    {
     "name": "stdout",
     "output_type": "stream",
     "text": [
      "('a', 'b', 'c', 'z', 'example')\n",
      "a\n",
      "example\n",
      "('b', 'c')\n"
     ]
    }
   ],
   "source": [
    "\n",
    "t = (\"a\", \"b\", \"c\", \"z\", \"example\")\n",
    "print (t) \n",
    "print (t[0])                                           \n",
    "print (t[-1])                                         \n",
    "print (t[1:3])\n",
    "\n"
   ]
  },
  {
   "cell_type": "code",
   "execution_count": 20,
   "metadata": {},
   "outputs": [
    {
     "name": "stdout",
     "output_type": "stream",
     "text": [
      "A\n",
      "B\n",
      "C\n",
      "D\n",
      "D\n",
      "C\n",
      "B\n",
      "A\n",
      "0 A\n",
      "1 B\n",
      "2 C\n",
      "3 D\n",
      "1976 A\n",
      "1987 B\n",
      "1990 C\n",
      "2003 D\n"
     ]
    }
   ],
   "source": [
    "\n",
    "albums = ('A', 'B', 'C', 'D')\n",
    "years = (1976, 1987, 1990, 2003)\n",
    "for album in sorted(albums):\n",
    "     print (album,)\n",
    "for album in reversed(albums):\n",
    "     print (album,)\n",
    "for i, album in enumerate(albums):\n",
    "     print (i, album)\n",
    "\n",
    "for album, yr in zip(albums, years):\n",
    "     print (yr, album)\n",
    "     \n",
    "     "
   ]
  },
  {
   "cell_type": "code",
   "execution_count": 21,
   "metadata": {},
   "outputs": [
    {
     "name": "stdout",
     "output_type": "stream",
     "text": [
      "Values in table1 by row are\n",
      "1\n",
      "2\n",
      "3\n",
      "4\n",
      "5\n",
      "6\n",
      "\n",
      "Values in table2 by row are\n",
      "1\n",
      "2\n",
      "3\n",
      "4\n",
      "5\n",
      "6\n"
     ]
    }
   ],
   "source": [
    "table1 = [ [ 1, 2, 3 ], [ 4, 5, 6 ] ]\n",
    "table2 = ( ( 1, 2 ), ( 3, ), ( 4, 5, 6 ) )\n",
    "\n",
    "print (\"Values in table1 by row are\")\n",
    "\n",
    "for row in table1:\n",
    "   for item in row:\n",
    "      print (item,)\n",
    "   print\n",
    "\n",
    "print (\"\\nValues in table2 by row are\")\n",
    "\n",
    "for row in table2:\n",
    "   for item in row:\n",
    "      print (item,)\n",
    "   print\n",
    "   \n"
   ]
  },
  {
   "cell_type": "code",
   "execution_count": 23,
   "metadata": {},
   "outputs": [
    {
     "name": "stdout",
     "output_type": "stream",
     "text": [
      "True\n",
      "False\n",
      "123\n",
      "(23, -103.4)\n"
     ]
    }
   ],
   "source": [
    " \n",
    "t = (['xyz', 123], 23, -103.4)\n",
    "print (23 in t)\n",
    "print (123 in t)\n",
    "print (t[0][1])\n",
    "print (t[1:])\n"
   ]
  },
  {
   "cell_type": "code",
   "execution_count": null,
   "metadata": {},
   "outputs": [],
   "source": []
  }
 ],
 "metadata": {
  "kernelspec": {
   "display_name": "Python 3",
   "language": "python",
   "name": "python3"
  },
  "language_info": {
   "codemirror_mode": {
    "name": "ipython",
    "version": 3
   },
   "file_extension": ".py",
   "mimetype": "text/x-python",
   "name": "python",
   "nbconvert_exporter": "python",
   "pygments_lexer": "ipython3",
   "version": "3.8.8"
  }
 },
 "nbformat": 4,
 "nbformat_minor": 4
}
