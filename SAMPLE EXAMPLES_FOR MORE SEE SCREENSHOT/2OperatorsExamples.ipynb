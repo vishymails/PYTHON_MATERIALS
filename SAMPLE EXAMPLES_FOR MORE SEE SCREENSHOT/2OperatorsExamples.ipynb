{
 "cells": [
  {
   "cell_type": "code",
   "execution_count": 1,
   "metadata": {},
   "outputs": [
    {
     "data": {
      "text/plain": [
       "'\\nHash mark ( # ) indicates Python comments\\nNEWLINE ( \\n ) is the standard line separator (one statement per line)\\nBackslash ( \\\\ ) continues a line\\nSemicolon ( ; ) joins two statements on a line\\nColon ( : ) separates a header line from its suite\\nStatements (code blocks) grouped as suites\\nSuites delimited via indentation\\nPython files organized as modules\\n\\n'"
      ]
     },
     "execution_count": 1,
     "metadata": {},
     "output_type": "execute_result"
    }
   ],
   "source": [
    "\n",
    "'''\n",
    "Hash mark ( # ) indicates Python comments\n",
    "NEWLINE ( \\n ) is the standard line separator (one statement per line)\n",
    "Backslash ( \\ ) continues a line\n",
    "Semicolon ( ; ) joins two statements on a line\n",
    "Colon ( : ) separates a header line from its suite\n",
    "Statements (code blocks) grouped as suites\n",
    "Suites delimited via indentation\n",
    "Python files organized as modules\n",
    "\n",
    "'''\n"
   ]
  },
  {
   "cell_type": "code",
   "execution_count": 2,
   "metadata": {},
   "outputs": [
    {
     "name": "stdout",
     "output_type": "stream",
     "text": [
      "foo\n"
     ]
    }
   ],
   "source": [
    "\n",
    "import sys; x = 'foo'; sys.stdout.write(x + '\\n')\n",
    "\n",
    "\n",
    "      \n",
    "anInt = -12\n",
    "aString = 'cart'\n",
    "aFloat = -3.1415 * (5.0 ** 2)\n",
    "anotherString = 'shop' + 'ping'\n",
    "aList = [3.14e10, '2nd elmt of a list', 8.82-4.371j]\n"
   ]
  },
  {
   "cell_type": "code",
   "execution_count": 3,
   "metadata": {},
   "outputs": [
    {
     "name": "stdout",
     "output_type": "stream",
     "text": [
      "2 2\n"
     ]
    }
   ],
   "source": [
    "\n",
    "x = 1\n",
    "y = x = x + 1\n",
    "print (x, y)\n",
    "\n"
   ]
  },
  {
   "cell_type": "code",
   "execution_count": 4,
   "metadata": {},
   "outputs": [
    {
     "name": "stdout",
     "output_type": "stream",
     "text": [
      "5\n",
      "25\n",
      "[123, 'xyz', 456000000.0]\n"
     ]
    }
   ],
   "source": [
    "\n",
    "m = 12\n",
    "m %= 7\n",
    "print (m)\n",
    "m **= 2\n",
    "print (m)\n",
    "aList = [123, 'xyz']\n",
    "aList += [45.6e7]\n",
    "print (aList)\n"
   ]
  },
  {
   "cell_type": "code",
   "execution_count": 5,
   "metadata": {},
   "outputs": [
    {
     "name": "stdout",
     "output_type": "stream",
     "text": [
      "1\n",
      "1\n",
      "1\n"
     ]
    }
   ],
   "source": [
    "\n",
    "x = y = z = 1\n",
    "print (x)\n",
    "print (y)\n",
    "print (z)\n"
   ]
  },
  {
   "cell_type": "code",
   "execution_count": 6,
   "metadata": {},
   "outputs": [
    {
     "name": "stdout",
     "output_type": "stream",
     "text": [
      "1\n",
      "2\n",
      "a string\n"
     ]
    }
   ],
   "source": [
    "\n",
    "x, y, z = 1, 2, 'a string'\n",
    "print (x)\n",
    "print (y)\n",
    "print (z)"
   ]
  },
  {
   "cell_type": "code",
   "execution_count": 7,
   "metadata": {},
   "outputs": [
    {
     "name": "stdout",
     "output_type": "stream",
     "text": [
      "True\n",
      "25.12\n"
     ]
    }
   ],
   "source": [
    "\n",
    "# The number of spaces in the indentation is variable, \n",
    "# but all statements within the block must be indented the same amount. \n",
    "\n",
    "if True:\n",
    "    print (\"True\")\n",
    "else:\n",
    "    print (\"False\")\n",
    "    \n",
    "    \n",
    "# Print the circumference of the circle: \n",
    "print (2 * 3.14 * 4)\n"
   ]
  },
  {
   "cell_type": "code",
   "execution_count": 8,
   "metadata": {},
   "outputs": [
    {
     "name": "stdout",
     "output_type": "stream",
     "text": [
      "None\n",
      "[None, None, None, None, None, None, None, None, None, None, None, None, None, None, None, None, None, None, None, None, None, None, None, None, None, None, None, None, None, None, None, None, None, None, None, None, None, None, None, None, None, None, None, None, None, None, None, None, None, None, None, None, None, None, None, None, None, None, None, None, None, None, None, None, None, None, None, None, None, None, None, None, None, None, None, None, None, None, None, None, None, None, None, None, None, None, None, None, None, None, None, None, None, None, None, None, None, None, None, None]\n",
      "<class 'list'>\n",
      "<class 'type'>\n"
     ]
    }
   ],
   "source": [
    "\n",
    "\n",
    "X = None                                     # None placeholder\n",
    "print (X)\n",
    "L = [None] * 100                             # Initialize a list of 100 Nones\n",
    "print (L) \n",
    "\n",
    "print (type(L))                                # Types\n",
    "print (type(type(L)))                          # Even types are objects\n"
   ]
  },
  {
   "cell_type": "code",
   "execution_count": 9,
   "metadata": {},
   "outputs": [
    {
     "name": "stdout",
     "output_type": "stream",
     "text": [
      "6\n",
      "1 2 3\n",
      "2 1 3\n"
     ]
    }
   ],
   "source": [
    "\n",
    "# You have to assign a value to a variable before you use it. \n",
    "\n",
    "d = 3\n",
    "print (d * 2)\n",
    "\n",
    "\n",
    "x, y, z = 1, 2, 3 \n",
    "print (x, y, z) \n",
    "x, y = y, x \n",
    "print (x, y, z)\n",
    "\n"
   ]
  },
  {
   "cell_type": "code",
   "execution_count": 11,
   "metadata": {},
   "outputs": [
    {
     "data": {
      "text/plain": [
       "{'x': 42, 'y': 3.14}"
      ]
     },
     "execution_count": 11,
     "metadata": {},
     "output_type": "execute_result"
    }
   ],
   "source": [
    "#The following are all literals in Python:\n",
    "42                       # Integer literal\n",
    "3.14                     # Floating-point literal\n",
    "1.0j                     # Imaginary literal\n",
    "'hello'                  # String literal\n",
    "\"world\"                  # Another string literal\n",
    "\"\"\"Good night\"\"\"                 # Triple-quoted string literal\n",
    "\n",
    "#Using literals and delimiters, you can create data values of some other fundamental types:\n",
    "[ 42, 3.14, 'hello' ]    # List\n",
    "( 100, 200, 300 )        # Tuple\n",
    "{ 'x':42, 'y':3.14 }     # Dictionary\n",
    "\n"
   ]
  },
  {
   "cell_type": "code",
   "execution_count": 12,
   "metadata": {},
   "outputs": [
    {
     "name": "stdout",
     "output_type": "stream",
     "text": [
      "1000.000000 miles is the same as 1609.000000 km\n"
     ]
    }
   ],
   "source": [
    "\n",
    "# The type and value are initialized on assignment. \n",
    "# Assignments are performed using the equal sign.\n",
    "\n",
    "counter = 0\n",
    "miles = 1000.0\n",
    "name = 'Bob'\n",
    "counter = counter + 1\n",
    "kilometers = 1.609 * miles\n",
    "print ('%f miles is the same as %f km' % (miles, kilometers))\n",
    "\n",
    "\n"
   ]
  },
  {
   "cell_type": "code",
   "execution_count": 13,
   "metadata": {},
   "outputs": [
    {
     "name": "stdout",
     "output_type": "stream",
     "text": [
      "4\n",
      "this is a string\n"
     ]
    }
   ],
   "source": [
    "\n",
    "x = 4\n",
    "y = 'this is a string'\n",
    "print (x)\n",
    "print (y)\n",
    "\n",
    "\n",
    "_count = 0\n",
    "def counter( ):\n",
    "    global _count\n",
    "    _count += 1\n",
    "    return _count"
   ]
  },
  {
   "cell_type": "code",
   "execution_count": 14,
   "metadata": {},
   "outputs": [
    {
     "name": "stdout",
     "output_type": "stream",
     "text": [
      "6\n",
      "2\n",
      "2\n"
     ]
    }
   ],
   "source": [
    "\n",
    "x = 2 \n",
    "x += 1 \n",
    "x *= 2 \n",
    "print (x)\n",
    "\n",
    "\n",
    "x = y = 2 \n",
    "\n",
    "print (x)\n",
    "print (y)\n",
    "\n"
   ]
  },
  {
   "cell_type": "code",
   "execution_count": 15,
   "metadata": {},
   "outputs": [],
   "source": [
    "def hello():\n",
    "    print (\"Hello, world!\")\n",
    "\n",
    "def test():\n",
    "    hello()"
   ]
  },
  {
   "cell_type": "code",
   "execution_count": 16,
   "metadata": {},
   "outputs": [
    {
     "data": {
      "text/plain": [
       "'Any Python program can be imported as a module. \\n\\n# C:\\\\python\\\\hello.py\\nprint (\"Hello, world!\")\\n\\n\\n# C:\\testModule.py\\n\\nimport sys\\nsys.path.append(\\'c:/python\\')\\nimport hello\\n\\nmodules are extensions that can be imported into Python to extend its capabilities. \\nYou import modules with a special command called import. \\n\\n\\nimport math \\nprint math.floor(32.9) \\nprint int(math.floor(32.9))\\n\\n\\n\\n\\n'"
      ]
     },
     "execution_count": 16,
     "metadata": {},
     "output_type": "execute_result"
    }
   ],
   "source": [
    "\n",
    "'''Any Python program can be imported as a module. \n",
    "\n",
    "# C:\\python\\hello.py\n",
    "print (\"Hello, world!\")\n",
    "\n",
    "\n",
    "# C:\\testModule.py\n",
    "\n",
    "import sys\n",
    "sys.path.append('c:/python')\n",
    "import hello\n",
    "\n",
    "modules are extensions that can be imported into Python to extend its capabilities. \n",
    "You import modules with a special command called import. \n",
    "\n",
    "\n",
    "import math \n",
    "print math.floor(32.9) \n",
    "print int(math.floor(32.9))\n",
    "\n",
    "\n",
    "\n",
    "\n",
    "'''\n",
    "                                                                                                                                                                                                                                                                                                                                                                                                                                                                                                                                                                                                                                                                                                                                                                                                                                                                                                                                                                                                                                                                                                                                                                                                                                                                                                                                                                                                                                                                                                                                                                                                                                                                                                                                                                                                                                                                                                                                                                                                                                                                                                                                                                                                                                                                                                                                                                                                                                                                                                                                                                                                                                                                                                                                                                                                                                                                                                                                                                                                                                                                                                                                                                                                                                                                                                                                                                                                                                                                                                                                                                                                                                                                                                                "
   ]
  },
  {
   "cell_type": "code",
   "execution_count": 19,
   "metadata": {},
   "outputs": [
    {
     "name": "stdout",
     "output_type": "stream",
     "text": [
      "Hello, world!\n"
     ]
    },
    {
     "ename": "ModuleNotFoundError",
     "evalue": "No module named 'hello'",
     "output_type": "error",
     "traceback": [
      "\u001b[0;31m---------------------------------------------------------------------------\u001b[0m",
      "\u001b[0;31mModuleNotFoundError\u001b[0m                       Traceback (most recent call last)",
      "\u001b[0;32m<ipython-input-19-e73ef5995f9b>\u001b[0m in \u001b[0;36m<module>\u001b[0;34m()\u001b[0m\n\u001b[1;32m      8\u001b[0m \u001b[0;32mimport\u001b[0m \u001b[0msys\u001b[0m\u001b[0;34m\u001b[0m\u001b[0m\n\u001b[1;32m      9\u001b[0m \u001b[0msys\u001b[0m\u001b[0;34m.\u001b[0m\u001b[0mpath\u001b[0m\u001b[0;34m.\u001b[0m\u001b[0mappend\u001b[0m\u001b[0;34m(\u001b[0m\u001b[0;34m'c:/python'\u001b[0m\u001b[0;34m)\u001b[0m\u001b[0;34m\u001b[0m\u001b[0m\n\u001b[0;32m---> 10\u001b[0;31m \u001b[0;32mimport\u001b[0m \u001b[0mhello\u001b[0m\u001b[0;34m\u001b[0m\u001b[0m\n\u001b[0m\u001b[1;32m     11\u001b[0m \u001b[0mhello\u001b[0m \u001b[0;34m=\u001b[0m \u001b[0mreload\u001b[0m\u001b[0;34m(\u001b[0m\u001b[0mhello\u001b[0m\u001b[0;34m)\u001b[0m\u001b[0;34m\u001b[0m\u001b[0m\n",
      "\u001b[0;31mModuleNotFoundError\u001b[0m: No module named 'hello'"
     ]
    }
   ],
   "source": [
    "\n",
    "# C:\\python\\hello.py\n",
    "print (\"Hello, world!\");\n",
    "\n",
    "\n",
    "# C:\\testModule.py\n",
    "\n",
    "import sys\n",
    "sys.path.append('c:/python')\n",
    "import hello\n",
    "hello = reload(hello)\n",
    "\n",
    "# NOTE : Try this exercise in pycharm.\n",
    "\n",
    "\n"
   ]
  },
  {
   "cell_type": "code",
   "execution_count": 1,
   "metadata": {},
   "outputs": [
    {
     "name": "stdout",
     "output_type": "stream",
     "text": [
      "Age: 42\n",
      "Hello, Mr. Vishwanath Rao\n",
      "Hello, , Mr. Vishwanath Rao\n",
      "Hello,, Mr. Vishwanath Rao\n",
      "Hello,\n",
      "world!\n"
     ]
    }
   ],
   "source": [
    "\n",
    "print ('Age:', 42) \n",
    "name = 'Vishwanath Rao'\n",
    "salutation = 'Mr.'\n",
    "greeting = 'Hello,'\n",
    "print (greeting, salutation, name)\n",
    "print (greeting, ',', salutation, name )\n",
    "print (greeting + ',', salutation, name)\n",
    "\n",
    "\n",
    "#If you add a comma at the end, your next print statement will continue printing on the same line : \n",
    "\n",
    "print ('Hello,', )\n",
    "print ('world!')\n"
   ]
  },
  {
   "cell_type": "code",
   "execution_count": null,
   "metadata": {},
   "outputs": [
    {
     "name": "stdout",
     "output_type": "stream",
     "text": [
      "<ipykernel.iostream.OutStream object at 0x7f1fe3630748> Fatal error: invalid input!\n"
     ]
    }
   ],
   "source": [
    "\n",
    "import sys\n",
    "print ( sys.stderr, 'Fatal error: invalid input!')\n",
    "\n",
    "\n",
    "\n"
   ]
  },
  {
   "cell_type": "code",
   "execution_count": 23,
   "metadata": {},
   "outputs": [],
   "source": [
    "\n",
    "logfile = open('mylog.txt', 'a')\n",
    " \n",
    "print('Fatal error: invalid input!', file= logfile)\n",
    "logfile.close()\n",
    "\n",
    "#Check the file in same folder.\n",
    "\n",
    "\n"
   ]
  },
  {
   "cell_type": "code",
   "execution_count": 1,
   "metadata": {},
   "outputs": [],
   "source": [
    "# expr1 ** expr2           expr1 raised to the power of expr2[a]\n",
    "# +expr  (unary)            expr sign unchanged\n",
    "# -expr  (unary)            negation of expr\n",
    "# expr1 ** expr2           expr1 raised to the power of expr2[a]\n",
    "# expr1 * expr2             expr1 times expr2\n",
    "# expr1 / expr2             expr1 divided by expr2 (classic or true division)\n",
    "# expr1 // expr2           expr1 divided by expr2 (floor division [only])\n",
    "# expr1 % expr2             expr1 modulo expr2\n",
    "# expr1 + expr2             expr1 plus expr2\n",
    "# expr1 - expr2             expr1 minus expr2\n",
    "\n",
    "# Here are a few more examples of Python's numeric operators:\n"
   ]
  },
  {
   "cell_type": "code",
   "execution_count": 2,
   "metadata": {},
   "outputs": [
    {
     "name": "stdout",
     "output_type": "stream",
     "text": [
      "-519\n",
      "64\n",
      "98.71831395268974\n",
      "2.6666666666666665\n",
      "2.6666666666666665\n",
      "2\n",
      "15.555555555555557\n",
      "56\n",
      "42.5\n",
      "905\n"
     ]
    }
   ],
   "source": [
    "#ARITHMETIC OPERATORS\n",
    "\n",
    "\n",
    "\n",
    "#INT ITSELF BEHAVES LIKE LONG NO L IS REQUIRED IN VALUE DECLARATION \n",
    "\n",
    "print (-442 - 77)\n",
    "print (4 ** 3)\n",
    "print (4.2 ** 3.2)\n",
    "print (8 / 3)\n",
    "print (8.0 / 3.0)\n",
    "print (8 % 3)\n",
    "print ((60. - 32.) * ( 5. / 9. ))\n",
    "print (14 * 0x04)\n",
    "print (170 / 4)\n",
    "print (0x80 + 777)\n"
   ]
  },
  {
   "cell_type": "code",
   "execution_count": 3,
   "metadata": {},
   "outputs": [
    {
     "name": "stdout",
     "output_type": "stream",
     "text": [
      "709879\n",
      "-54294967296\n",
      "(68.605-7.5j)\n",
      "(-1+0j)\n",
      "0j\n",
      "2j\n"
     ]
    }
   ],
   "source": [
    "print (16399 + 0xA94E8)\n",
    "print (-2147483648 - 52147483648)\n",
    "print (64.375+1j + 4.23-8.5j)\n",
    "print (0+1j ** 2   )       # same as 0+(lj**2)\n",
    "print (1+1j ** 2    )      # same as 1+(lj**2)\n",
    "print ((1+1j) ** 2)"
   ]
  },
  {
   "cell_type": "code",
   "execution_count": 4,
   "metadata": {},
   "outputs": [
    {
     "name": "stdout",
     "output_type": "stream",
     "text": [
      "1\n",
      "3.3333333333333335\n",
      "1\n",
      "3.0\n",
      "0\n",
      "0.25\n"
     ]
    }
   ],
   "source": [
    "print (1 % 2 )\n",
    "print (10 / 3 )\n",
    "print (10 % 3 )\n",
    "print (9 / 3 )\n",
    "print (9 % 3 )\n",
    "print (2.75 % 0.5)"
   ]
  },
  {
   "cell_type": "code",
   "execution_count": 5,
   "metadata": {},
   "outputs": [
    {
     "name": "stdout",
     "output_type": "stream",
     "text": [
      "8\n",
      "-9\n",
      "9\n"
     ]
    }
   ],
   "source": [
    "\n",
    "#exponential (power)\n",
    "\n",
    "print (2 ** 3 )\n",
    "print (-3 ** 2 )\n",
    "print ((-3) ** 2)"
   ]
  },
  {
   "cell_type": "code",
   "execution_count": 6,
   "metadata": {},
   "outputs": [
    {
     "name": "stdout",
     "output_type": "stream",
     "text": [
      "4\n",
      "3\n",
      "1\n"
     ]
    }
   ],
   "source": [
    "#BITWISE OPERATOR\n",
    "\n",
    "x = 1                # 0001\n",
    "print (x << 2)         # Shift left 2 bits: 0100\n",
    "print (x | 2 )         # bitwise OR: 0011\n",
    "print( x & 1 )         # bitwise AND: 0001\n",
    "\n"
   ]
  },
  {
   "cell_type": "code",
   "execution_count": 8,
   "metadata": {},
   "outputs": [
    {
     "name": "stdout",
     "output_type": "stream",
     "text": [
      "True\n",
      "False\n",
      "True\n",
      "False\n",
      "True\n"
     ]
    }
   ],
   "source": [
    "#BOOLEAN OPERATOR\n",
    "\n",
    "\n",
    "x, y = 3.1415926536, -1024\n",
    "print( x < 5.0)\n",
    "print (not (x < 5.0))\n",
    "print ((x < 5.0) or (y > 2.718281828))\n",
    "print ((x < 5.0) and (y > 2.718281828))\n",
    "print (not (x is y))\n",
    "\n"
   ]
  },
  {
   "cell_type": "code",
   "execution_count": 9,
   "metadata": {},
   "outputs": [
    {
     "data": {
      "text/plain": [
       "'\\n\\n\\nExpression       Description \\n\\nx == y           x equals y.\\nx < y            x is less than y.\\nx > y            x is greater than y.\\nx >= y           x is greater than or equal to y.\\nx <= y           x is less than or equal to y.\\nx != y           x is not equal to y.\\nx is y           x and y are the same object.\\nx is not y       x and y are different objects.\\nx in y           x is a member of the container (e.g., sequence) y.\\nx not in y       x is not a member of the container (e.g., sequence) y.\\n\\n'"
      ]
     },
     "execution_count": 9,
     "metadata": {},
     "output_type": "execute_result"
    }
   ],
   "source": [
    "'''\n",
    "\n",
    "\n",
    "Expression       Description \n",
    "\n",
    "x == y           x equals y.\n",
    "x < y            x is less than y.\n",
    "x > y            x is greater than y.\n",
    "x >= y           x is greater than or equal to y.\n",
    "x <= y           x is less than or equal to y.\n",
    "x != y           x is not equal to y.\n",
    "x is y           x and y are the same object.\n",
    "x is not y       x and y are different objects.\n",
    "x in y           x is a member of the container (e.g., sequence) y.\n",
    "x not in y       x is not a member of the container (e.g., sequence) y.\n",
    "\n",
    "'''"
   ]
  },
  {
   "cell_type": "code",
   "execution_count": 10,
   "metadata": {},
   "outputs": [
    {
     "name": "stdout",
     "output_type": "stream",
     "text": [
      "True\n",
      "False\n"
     ]
    }
   ],
   "source": [
    "print (\"foo\" == \"foo\")\n",
    "print (\"foo\" == \"bar\")\n"
   ]
  },
  {
   "cell_type": "code",
   "execution_count": 11,
   "metadata": {},
   "outputs": [
    {
     "name": "stdout",
     "output_type": "stream",
     "text": [
      "12\n",
      "63\n",
      "44\n",
      "61\n",
      "-31\n",
      "-46\n",
      "90\n",
      "15\n",
      "51\n"
     ]
    }
   ],
   "source": [
    "#BITWISE OPERATOR\n",
    "\n",
    "\n",
    "# ~num  (unary)     invert the bits of num, yielding -(num + 1)\n",
    "# num1 << num2      num1 left shifted by num2 bits\n",
    "# num1 >> num2      num1 right shifted by num2 bits\n",
    "# num1 & num2       num1 bitwise AND with num2\n",
    "# num1 ^ num2       num1 bitwise XOR (exclusive OR) with num2\n",
    "# num1 | num2       num1 bitwise OR with num2\n",
    "\n",
    "#  30 (011110), 45 (101101), and 60 (111100):\n",
    "print (30 & 45)\n",
    "print (30 | 45)\n",
    "print (45 & 60)\n",
    "print (45 | 60)\n",
    "print (~30)\n",
    "print (~45)\n",
    "print (45 << 1)\n",
    "print (60 >> 2)\n",
    "print (30 ^ 45)"
   ]
  },
  {
   "cell_type": "code",
   "execution_count": 12,
   "metadata": {},
   "outputs": [
    {
     "name": "stdout",
     "output_type": "stream",
     "text": [
      "a\n",
      "b\n",
      "{}\n",
      "a\n"
     ]
    }
   ],
   "source": [
    "print ('a' or 'b')                                \n",
    "print ('' or 'b' )                                     \n",
    "print ('' or [] or {})                                \n",
    "\n",
    "def sidefx(): \n",
    "    print (\"in sidefx()\" )\n",
    "    return 1 \n",
    "print ('a' or sidefx())"
   ]
  },
  {
   "cell_type": "code",
   "execution_count": 13,
   "metadata": {},
   "outputs": [
    {
     "name": "stdout",
     "output_type": "stream",
     "text": [
      "b\n",
      "\n",
      "c\n"
     ]
    }
   ],
   "source": [
    "print ('a' and 'b' )                              \n",
    "print ('' and 'b' )                                    \n",
    "print ('a' and 'b' and 'c')"
   ]
  },
  {
   "cell_type": "code",
   "execution_count": null,
   "metadata": {},
   "outputs": [],
   "source": []
  }
 ],
 "metadata": {
  "kernelspec": {
   "display_name": "Python 3",
   "language": "python",
   "name": "python3"
  },
  "language_info": {
   "codemirror_mode": {
    "name": "ipython",
    "version": 3
   },
   "file_extension": ".py",
   "mimetype": "text/x-python",
   "name": "python",
   "nbconvert_exporter": "python",
   "pygments_lexer": "ipython3",
   "version": "3.8.8"
  }
 },
 "nbformat": 4,
 "nbformat_minor": 4
}
