{
 "cells": [
  {
   "cell_type": "code",
   "execution_count": 1,
   "metadata": {},
   "outputs": [
    {
     "name": "stdout",
     "output_type": "stream",
     "text": [
      "1j\n",
      "(-3+31j)\n"
     ]
    }
   ],
   "source": [
    "\n",
    "import cmath \n",
    "print (cmath.sqrt(-1)) \n",
    "print ((1+3j) * (9+4j))\n",
    "\n"
   ]
  },
  {
   "cell_type": "code",
   "execution_count": 2,
   "metadata": {},
   "outputs": [
    {
     "name": "stdout",
     "output_type": "stream",
     "text": [
      "(-1+0j)\n",
      "(-1+0j)\n",
      "(3+3j)\n",
      "(9+3j)\n",
      "(1.5+0.5j)\n"
     ]
    }
   ],
   "source": [
    "#Complex numbers with a nonzero real component are written as \"(real+imagj)\", or can be created with the \"complex(real, imag)\" function.\n",
    "\n",
    "print (1j * 1J)\n",
    "print (1j * complex(0,1))\n",
    "print (3+1j*3)\n",
    "print ((3+1j)*3)\n",
    "print ((1+2j)/(1+1j))\n",
    "\n"
   ]
  },
  {
   "cell_type": "code",
   "execution_count": 3,
   "metadata": {},
   "outputs": [
    {
     "name": "stdout",
     "output_type": "stream",
     "text": [
      "1.5\n",
      "0.5\n"
     ]
    }
   ],
   "source": [
    "a=1.5+0.5j\n",
    "print (a.real)\n",
    "print (a.imag)\n",
    "\n",
    "\n",
    "a=1.5+0.5j\n"
   ]
  },
  {
   "cell_type": "code",
   "execution_count": 4,
   "metadata": {},
   "outputs": [
    {
     "name": "stdout",
     "output_type": "stream",
     "text": [
      "4.0\n",
      "3.0\n",
      "(4+3j)\n"
     ]
    }
   ],
   "source": [
    "\n",
    "x = 4+3j\n",
    "print (x.real)\n",
    "print (x.imag)\n",
    "print (x)\n"
   ]
  },
  {
   "cell_type": "code",
   "execution_count": 5,
   "metadata": {},
   "outputs": [
    {
     "name": "stdout",
     "output_type": "stream",
     "text": [
      "1j\n",
      "(1.5707963267948966+5.298292365610485j)\n",
      "(0.9176168533514787+2.2999140408792695j)\n",
      "1.5\n",
      "1.5811388300841898\n"
     ]
    }
   ],
   "source": [
    "\n",
    "print (cmath.sqrt(-1))\n",
    "\n",
    "print (cmath.asin(100))\n",
    "print (cmath.asin(4+3j))\n",
    "print (a.real)\n",
    "print (abs(a))\n"
   ]
  },
  {
   "cell_type": "code",
   "execution_count": 6,
   "metadata": {},
   "outputs": [
    {
     "name": "stdout",
     "output_type": "stream",
     "text": [
      "(-8.3-1.4j)\n",
      "-8.3\n",
      "-1.4\n",
      "(-8.3+1.4j)\n"
     ]
    }
   ],
   "source": [
    "\n",
    "'''\n",
    "\n",
    "Attribute          Description\n",
    "num.real          Real component of complex number num\n",
    "num.imag          Imaginary component of complex number num\n",
    "num.conjugate()      Returns complex conjugate of num\n",
    "'''\n",
    "\n",
    "aComplex = -8.3 - 1.4j\n",
    "print (aComplex)\n",
    "print (aComplex.real)\n",
    "print (aComplex.imag)\n",
    "print (aComplex.conjugate())\n"
   ]
  },
  {
   "cell_type": "code",
   "execution_count": null,
   "metadata": {},
   "outputs": [],
   "source": []
  }
 ],
 "metadata": {
  "kernelspec": {
   "display_name": "Python 3",
   "language": "python",
   "name": "python3"
  },
  "language_info": {
   "codemirror_mode": {
    "name": "ipython",
    "version": 3
   },
   "file_extension": ".py",
   "mimetype": "text/x-python",
   "name": "python",
   "nbconvert_exporter": "python",
   "pygments_lexer": "ipython3",
   "version": "3.8.8"
  }
 },
 "nbformat": 4,
 "nbformat_minor": 4
}
